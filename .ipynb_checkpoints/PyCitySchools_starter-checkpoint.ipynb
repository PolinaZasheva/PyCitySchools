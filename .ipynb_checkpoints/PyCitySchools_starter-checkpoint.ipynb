{
 "cells": [
  {
   "cell_type": "markdown",
   "metadata": {},
   "source": [
    "# PyCity Schools Analysis\n",
    "\n",
    "* As a whole, schools with higher budgets, did not yield better test results. By contrast, schools with higher spending per student actually (\\$645-675) underperformed compared to schools with smaller budgets (<\\$585 per student).\n",
    "\n",
    "* As a whole, smaller and medium sized schools dramatically out-performed large sized schools on passing math performances (89-91% passing vs 67%).\n",
    "\n",
    "* As a whole, charter schools out-performed the public district schools across all metrics. However, more analysis will be required to glean if the effect is due to school practices or the fact that charter schools tend to serve smaller student populations per school. \n",
    "---"
   ]
  },
  {
   "cell_type": "markdown",
   "metadata": {},
   "source": [
    "### Note\n",
    "* Instructions have been included for each segment. You do not have to follow them exactly, but they are included to help you think through the steps."
   ]
  },
  {
   "cell_type": "code",
   "execution_count": 3,
   "metadata": {},
   "outputs": [
    {
     "data": {
      "text/html": [
       "<div>\n",
       "<style scoped>\n",
       "    .dataframe tbody tr th:only-of-type {\n",
       "        vertical-align: middle;\n",
       "    }\n",
       "\n",
       "    .dataframe tbody tr th {\n",
       "        vertical-align: top;\n",
       "    }\n",
       "\n",
       "    .dataframe thead th {\n",
       "        text-align: right;\n",
       "    }\n",
       "</style>\n",
       "<table border=\"1\" class=\"dataframe\">\n",
       "  <thead>\n",
       "    <tr style=\"text-align: right;\">\n",
       "      <th></th>\n",
       "      <th>Student ID</th>\n",
       "      <th>student_name</th>\n",
       "      <th>gender</th>\n",
       "      <th>grade</th>\n",
       "      <th>school_name</th>\n",
       "      <th>reading_score</th>\n",
       "      <th>math_score</th>\n",
       "      <th>School ID</th>\n",
       "      <th>type</th>\n",
       "      <th>size</th>\n",
       "      <th>budget</th>\n",
       "    </tr>\n",
       "  </thead>\n",
       "  <tbody>\n",
       "    <tr>\n",
       "      <th>0</th>\n",
       "      <td>0</td>\n",
       "      <td>Paul Bradley</td>\n",
       "      <td>M</td>\n",
       "      <td>9th</td>\n",
       "      <td>Huang High School</td>\n",
       "      <td>66</td>\n",
       "      <td>79</td>\n",
       "      <td>0</td>\n",
       "      <td>District</td>\n",
       "      <td>2917</td>\n",
       "      <td>1910635</td>\n",
       "    </tr>\n",
       "    <tr>\n",
       "      <th>1</th>\n",
       "      <td>1</td>\n",
       "      <td>Victor Smith</td>\n",
       "      <td>M</td>\n",
       "      <td>12th</td>\n",
       "      <td>Huang High School</td>\n",
       "      <td>94</td>\n",
       "      <td>61</td>\n",
       "      <td>0</td>\n",
       "      <td>District</td>\n",
       "      <td>2917</td>\n",
       "      <td>1910635</td>\n",
       "    </tr>\n",
       "    <tr>\n",
       "      <th>2</th>\n",
       "      <td>2</td>\n",
       "      <td>Kevin Rodriguez</td>\n",
       "      <td>M</td>\n",
       "      <td>12th</td>\n",
       "      <td>Huang High School</td>\n",
       "      <td>90</td>\n",
       "      <td>60</td>\n",
       "      <td>0</td>\n",
       "      <td>District</td>\n",
       "      <td>2917</td>\n",
       "      <td>1910635</td>\n",
       "    </tr>\n",
       "    <tr>\n",
       "      <th>3</th>\n",
       "      <td>3</td>\n",
       "      <td>Dr. Richard Scott</td>\n",
       "      <td>M</td>\n",
       "      <td>12th</td>\n",
       "      <td>Huang High School</td>\n",
       "      <td>67</td>\n",
       "      <td>58</td>\n",
       "      <td>0</td>\n",
       "      <td>District</td>\n",
       "      <td>2917</td>\n",
       "      <td>1910635</td>\n",
       "    </tr>\n",
       "    <tr>\n",
       "      <th>4</th>\n",
       "      <td>4</td>\n",
       "      <td>Bonnie Ray</td>\n",
       "      <td>F</td>\n",
       "      <td>9th</td>\n",
       "      <td>Huang High School</td>\n",
       "      <td>97</td>\n",
       "      <td>84</td>\n",
       "      <td>0</td>\n",
       "      <td>District</td>\n",
       "      <td>2917</td>\n",
       "      <td>1910635</td>\n",
       "    </tr>\n",
       "  </tbody>\n",
       "</table>\n",
       "</div>"
      ],
      "text/plain": [
       "   Student ID       student_name gender grade        school_name  \\\n",
       "0           0       Paul Bradley      M   9th  Huang High School   \n",
       "1           1       Victor Smith      M  12th  Huang High School   \n",
       "2           2    Kevin Rodriguez      M  12th  Huang High School   \n",
       "3           3  Dr. Richard Scott      M  12th  Huang High School   \n",
       "4           4         Bonnie Ray      F   9th  Huang High School   \n",
       "\n",
       "   reading_score  math_score  School ID      type  size   budget  \n",
       "0             66          79          0  District  2917  1910635  \n",
       "1             94          61          0  District  2917  1910635  \n",
       "2             90          60          0  District  2917  1910635  \n",
       "3             67          58          0  District  2917  1910635  \n",
       "4             97          84          0  District  2917  1910635  "
      ]
     },
     "execution_count": 3,
     "metadata": {},
     "output_type": "execute_result"
    }
   ],
   "source": [
    "# Dependencies and Setup\n",
    "import pandas as pd\n",
    "import numpy as np\n",
    "\n",
    "# File to Load (Remember to Change These)\n",
    "school_data_to_load = \"Resources/schools_complete.csv\"\n",
    "student_data_to_load = \"Resources/students_complete.csv\"\n",
    "\n",
    "# Read School and Student Data File and store into Pandas Data Frames\n",
    "school_data = pd.read_csv(school_data_to_load)\n",
    "student_data = pd.read_csv(student_data_to_load)\n",
    "\n",
    "# Combine the data into a single dataset\n",
    "school_data_complete = pd.merge(student_data, school_data, how=\"left\", on=[\"school_name\", \"school_name\"])\n",
    "\n",
    "# Creating data farmes\n",
    "school_df=school_data\n",
    "student_df=student_data\n",
    "combined_df=school_data_complete\n",
    "\n",
    "combined_df.head()"
   ]
  },
  {
   "cell_type": "markdown",
   "metadata": {},
   "source": [
    "## District Summary\n",
    "\n",
    "* Calculate the total number of schools\n",
    "\n",
    "\n",
    "* Calculate the total number of students\n",
    "\n",
    "* Calculate the total budget\n",
    "\n",
    "* Calculate the average math score \n",
    "\n",
    "* Calculate the average reading score\n",
    "\n",
    "* Calculate the overall passing rate (overall average score), i.e. (avg. math score + avg. reading score)/2\n",
    "\n",
    "* Calculate the percentage of students with a passing math score (70 or greater)\n",
    "\n",
    "* Calculate the percentage of students with a passing reading score (70 or greater)\n",
    "\n",
    "* Create a dataframe to hold the above results\n",
    "\n",
    "* Optional: give the displayed data cleaner formatting"
   ]
  },
  {
   "cell_type": "code",
   "execution_count": 4,
   "metadata": {},
   "outputs": [],
   "source": [
    "#create a DataFrame for \n",
    "District={}\n",
    "\n",
    "District=pd.DataFrame()"
   ]
  },
  {
   "cell_type": "code",
   "execution_count": 5,
   "metadata": {},
   "outputs": [
    {
     "name": "stdout",
     "output_type": "stream",
     "text": [
      "   Total Schools\n",
      "0             15\n"
     ]
    }
   ],
   "source": [
    "# Calculare the total number of schools\n",
    "District[\"Total Schools\"] =[school_df.school_name.value_counts().sum()]\n",
    "print(District)"
   ]
  },
  {
   "cell_type": "code",
   "execution_count": 6,
   "metadata": {},
   "outputs": [
    {
     "name": "stdout",
     "output_type": "stream",
     "text": [
      "   Total Schools  Total Students\n",
      "0             15           39170\n"
     ]
    }
   ],
   "source": [
    "# Calculate the total number of students\n",
    "District[\"Total Students\"] = [school_df[\"size\"].sum()]\n",
    "print(District)"
   ]
  },
  {
   "cell_type": "code",
   "execution_count": 7,
   "metadata": {},
   "outputs": [
    {
     "name": "stdout",
     "output_type": "stream",
     "text": [
      "   Total Schools  Total Students  Total Budget\n",
      "0             15           39170      24649428\n"
     ]
    }
   ],
   "source": [
    "# Calculate the total budget\n",
    "District[\"Total Budget\"]=[school_df[\"budget\"].sum()]\n",
    "print(District)"
   ]
  },
  {
   "cell_type": "code",
   "execution_count": 8,
   "metadata": {},
   "outputs": [
    {
     "name": "stdout",
     "output_type": "stream",
     "text": [
      "   Total Schools  Total Students  Total Budget  Average Math Score\n",
      "0             15           39170      24649428           78.985371\n"
     ]
    }
   ],
   "source": [
    "#Calculate the average math score\n",
    "District[\"Average Math Score\"]=[student_df[\"math_score\"].mean()]\n",
    "print(District)"
   ]
  },
  {
   "cell_type": "code",
   "execution_count": 9,
   "metadata": {},
   "outputs": [
    {
     "name": "stdout",
     "output_type": "stream",
     "text": [
      "   Total Schools  Total Students  Total Budget  Average Math Score  \\\n",
      "0             15           39170      24649428           78.985371   \n",
      "\n",
      "   Average Reading Score  \n",
      "0               81.87784  \n"
     ]
    }
   ],
   "source": [
    "#Calculate the average reading score\n",
    "District[\"Average Reading Score\"]=[student_df[\"reading_score\"].mean()]\n",
    "print(District)"
   ]
  },
  {
   "cell_type": "code",
   "execution_count": 10,
   "metadata": {},
   "outputs": [
    {
     "name": "stdout",
     "output_type": "stream",
     "text": [
      "0.8039315802910391\n"
     ]
    }
   ],
   "source": [
    "#Calculate the overall passing rate (overall average score), i.e. (avg. math score + avg. reading score)/2\n",
    "#passing grade is 70%\n",
    "Total_Students=len(student_df[\"Student ID\"])\n",
    "avg_math_score=len(student_df[student_df[\"math_score\"] >= 70])/ Total_Students\n",
    "avg_reading_score=len(student_df[student_df[\"reading_score\"] >= 70])/ Total_Students\n",
    "\n",
    "overall_passing_rate=(avg_math_score+avg_reading_score)/2\n",
    "print(overall_passing_rate)"
   ]
  },
  {
   "cell_type": "code",
   "execution_count": 15,
   "metadata": {},
   "outputs": [],
   "source": [
    "# Calculate the percentage of students with a passing math score (70 or greater)\n",
    "District[\"%Passing Math\"]=len(student_df[student_df[\"math_score\"] >= 70])/ Total_Students"
   ]
  },
  {
   "cell_type": "code",
   "execution_count": 17,
   "metadata": {},
   "outputs": [],
   "source": [
    "#Calculate the percentage of students with a passing reading score (70 or greater)\n",
    "District[\"%Passing Reading\"]=len(student_df[student_df[\"reading_score\"] >= 70])/ Total_Students"
   ]
  },
  {
   "cell_type": "code",
   "execution_count": 18,
   "metadata": {},
   "outputs": [],
   "source": [
    "#overall\n",
    "District[\"%Overall Passing Rate\"]=[overall_passing_rate]"
   ]
  },
  {
   "cell_type": "code",
   "execution_count": 19,
   "metadata": {},
   "outputs": [
    {
     "name": "stdout",
     "output_type": "stream",
     "text": [
      "   Total Schools  Total Students  Total Budget  Average Math Score  \\\n",
      "0             15           39170      24649428           78.985371   \n",
      "\n",
      "   Average Reading Score  %Passing Math  %Passing Reading  \\\n",
      "0               81.87784       0.749809          0.858055   \n",
      "\n",
      "   %Overall Passing Rate  \n",
      "0               0.803932  \n"
     ]
    }
   ],
   "source": [
    "#Create a dataframe to hold the above results\n",
    "Districts=pd.DataFrame(District)\n",
    "print(Districts)"
   ]
  },
  {
   "cell_type": "code",
   "execution_count": 20,
   "metadata": {},
   "outputs": [
    {
     "data": {
      "text/html": [
       "<div>\n",
       "<style scoped>\n",
       "    .dataframe tbody tr th:only-of-type {\n",
       "        vertical-align: middle;\n",
       "    }\n",
       "\n",
       "    .dataframe tbody tr th {\n",
       "        vertical-align: top;\n",
       "    }\n",
       "\n",
       "    .dataframe thead th {\n",
       "        text-align: right;\n",
       "    }\n",
       "</style>\n",
       "<table border=\"1\" class=\"dataframe\">\n",
       "  <thead>\n",
       "    <tr style=\"text-align: right;\">\n",
       "      <th></th>\n",
       "      <th>Total Schools</th>\n",
       "      <th>Total Students</th>\n",
       "      <th>Total Budget</th>\n",
       "      <th>Average Math Score</th>\n",
       "      <th>Average Reading Score</th>\n",
       "      <th>%Passing Math</th>\n",
       "      <th>%Passing Reading</th>\n",
       "      <th>%Overall Passing Rate</th>\n",
       "    </tr>\n",
       "  </thead>\n",
       "  <tbody>\n",
       "    <tr>\n",
       "      <th>0</th>\n",
       "      <td>15</td>\n",
       "      <td>39170</td>\n",
       "      <td>24649428</td>\n",
       "      <td>78.985371</td>\n",
       "      <td>81.87784</td>\n",
       "      <td>0.749809</td>\n",
       "      <td>0.858055</td>\n",
       "      <td>0.803932</td>\n",
       "    </tr>\n",
       "  </tbody>\n",
       "</table>\n",
       "</div>"
      ],
      "text/plain": [
       "   Total Schools  Total Students  Total Budget  Average Math Score  \\\n",
       "0             15           39170      24649428           78.985371   \n",
       "\n",
       "   Average Reading Score  %Passing Math  %Passing Reading  \\\n",
       "0               81.87784       0.749809          0.858055   \n",
       "\n",
       "   %Overall Passing Rate  \n",
       "0               0.803932  "
      ]
     },
     "execution_count": 20,
     "metadata": {},
     "output_type": "execute_result"
    }
   ],
   "source": [
    "#Optional: give the displayed data cleaner formatting\n",
    "Districts.style.format({\"Total Budget\": \"${:,.2f}\",\n",
    "                      \"%Passing Math\": \"{:.1%}\",\"%Passing Reading\": \"{:.1%}\", \"Overall Passing Rate\": \"{:.1%}\"})\n",
    "\n",
    "Districts"
   ]
  },
  {
   "cell_type": "markdown",
   "metadata": {},
   "source": [
    "## School Summary"
   ]
  },
  {
   "cell_type": "markdown",
   "metadata": {},
   "source": [
    "* Create an overview table that summarizes key metrics about each school, including:\n",
    "  * School Name\n",
    "  * School Type\n",
    "  * Total Students\n",
    "  * Total School Budget\n",
    "  * Per Student Budget\n",
    "  * Average Math Score\n",
    "  * Average Reading Score\n",
    "  * % Passing Math\n",
    "  * % Passing Reading\n",
    "  * Overall Passing Rate (Average of the above two)\n",
    "  \n",
    "* Create a dataframe to hold the above results"
   ]
  },
  {
   "cell_type": "code",
   "execution_count": 25,
   "metadata": {},
   "outputs": [],
   "source": [
    "#Create an overview table that summarizes key metrics about each school, including:\n",
    "\n",
    "#School Name Grouping\n",
    "School_Name = combined_df.set_index('school_name').groupby(['school_name'])\n",
    "\n",
    "#School Type Grouping\n",
    "School_Type = school_df.set_index('school_name')['type']\n",
    "\n",
    "#Calculating Total Students\n",
    "Total_Students = combined_df.groupby(\"school_name\")['Student ID'].count()\n",
    "\n",
    "#Calculating Total School Budget\n",
    "School_Budget = school_df.set_index('school_name')['budget']\n",
    "\n",
    "#Calculating Per Student Budget\n",
    "Student_Budget = school_df.set_index('school_name')['budget']/school_df.set_index('school_name')['size']\n",
    "\n",
    "#Average Math Score\n",
    "avg_math_score = School_Name['math_score'].mean()\n",
    "\n",
    "#Average Reading Score\n",
    "avg_reading_score=School_Name['reading_score'].mean()\n",
    "\n",
    "#%Passing Math\n",
    "passing_math_score = combined_df[combined_df['math_score']>=70].groupby('school_name')['Student ID'].count()/Total_Students\n",
    "\n",
    "#%Passing Reading\n",
    "passing_reading_score = combined_df[combined_df['reading_score']>=70].groupby('school_name')['Student ID'].count()/Total_Students\n",
    "\n",
    "#Overall Passing Rate (Average of the above two)\n",
    "overall_passing_rate = (passing_math_score+passing_reading_score)/2"
   ]
  },
  {
   "cell_type": "code",
   "execution_count": 26,
   "metadata": {},
   "outputs": [],
   "source": [
    "#Create a dataframe to hold the above results\n",
    "school_summary = pd.DataFrame({\n",
    "    \"School Type\": School_Type,\n",
    "    \"Total Students\": Total_Students,\n",
    "    \"Per Student Budget\": Student_Budget,\n",
    "    \"Total School Budget\": School_Budget,\n",
    "    \"Average Math Score\": avg_math_score,\n",
    "    \"Average Reading Score\": avg_reading_score,\n",
    "    '% Passing Math': passing_math_score,\n",
    "    '% Passing Reading': passing_reading_score,\n",
    "    \"Overall Passing Rate\": overall_passing_rate\n",
    "})"
   ]
  },
  {
   "cell_type": "code",
   "execution_count": 27,
   "metadata": {},
   "outputs": [
    {
     "data": {
      "text/html": [
       "<style  type=\"text/css\" >\n",
       "</style>  \n",
       "<table id=\"T_0a113ddc_452c_11e9_b8ec_8c85902c29bd\" > \n",
       "<thead>    <tr> \n",
       "        <th class=\"blank level0\" ></th> \n",
       "        <th class=\"col_heading level0 col0\" >School Type</th> \n",
       "        <th class=\"col_heading level0 col1\" >Total Students</th> \n",
       "        <th class=\"col_heading level0 col2\" >Total School Budget</th> \n",
       "        <th class=\"col_heading level0 col3\" >Per Student Budget</th> \n",
       "        <th class=\"col_heading level0 col4\" >Average Math Score</th> \n",
       "        <th class=\"col_heading level0 col5\" >Average Reading Score</th> \n",
       "        <th class=\"col_heading level0 col6\" >% Passing Math</th> \n",
       "        <th class=\"col_heading level0 col7\" >% Passing Reading</th> \n",
       "        <th class=\"col_heading level0 col8\" >Overall Passing Rate</th> \n",
       "    </tr></thead> \n",
       "<tbody>    <tr> \n",
       "        <th id=\"T_0a113ddc_452c_11e9_b8ec_8c85902c29bdlevel0_row0\" class=\"row_heading level0 row0\" >Bailey High School</th> \n",
       "        <td id=\"T_0a113ddc_452c_11e9_b8ec_8c85902c29bdrow0_col0\" class=\"data row0 col0\" >District</td> \n",
       "        <td id=\"T_0a113ddc_452c_11e9_b8ec_8c85902c29bdrow0_col1\" class=\"data row0 col1\" >4,976</td> \n",
       "        <td id=\"T_0a113ddc_452c_11e9_b8ec_8c85902c29bdrow0_col2\" class=\"data row0 col2\" >$3,124,928</td> \n",
       "        <td id=\"T_0a113ddc_452c_11e9_b8ec_8c85902c29bdrow0_col3\" class=\"data row0 col3\" >$628</td> \n",
       "        <td id=\"T_0a113ddc_452c_11e9_b8ec_8c85902c29bdrow0_col4\" class=\"data row0 col4\" >77.0</td> \n",
       "        <td id=\"T_0a113ddc_452c_11e9_b8ec_8c85902c29bdrow0_col5\" class=\"data row0 col5\" >81.0</td> \n",
       "        <td id=\"T_0a113ddc_452c_11e9_b8ec_8c85902c29bdrow0_col6\" class=\"data row0 col6\" >66.7%</td> \n",
       "        <td id=\"T_0a113ddc_452c_11e9_b8ec_8c85902c29bdrow0_col7\" class=\"data row0 col7\" >81.9%</td> \n",
       "        <td id=\"T_0a113ddc_452c_11e9_b8ec_8c85902c29bdrow0_col8\" class=\"data row0 col8\" >74.3%</td> \n",
       "    </tr>    <tr> \n",
       "        <th id=\"T_0a113ddc_452c_11e9_b8ec_8c85902c29bdlevel0_row1\" class=\"row_heading level0 row1\" >Cabrera High School</th> \n",
       "        <td id=\"T_0a113ddc_452c_11e9_b8ec_8c85902c29bdrow1_col0\" class=\"data row1 col0\" >Charter</td> \n",
       "        <td id=\"T_0a113ddc_452c_11e9_b8ec_8c85902c29bdrow1_col1\" class=\"data row1 col1\" >1,858</td> \n",
       "        <td id=\"T_0a113ddc_452c_11e9_b8ec_8c85902c29bdrow1_col2\" class=\"data row1 col2\" >$1,081,356</td> \n",
       "        <td id=\"T_0a113ddc_452c_11e9_b8ec_8c85902c29bdrow1_col3\" class=\"data row1 col3\" >$582</td> \n",
       "        <td id=\"T_0a113ddc_452c_11e9_b8ec_8c85902c29bdrow1_col4\" class=\"data row1 col4\" >83.1</td> \n",
       "        <td id=\"T_0a113ddc_452c_11e9_b8ec_8c85902c29bdrow1_col5\" class=\"data row1 col5\" >84.0</td> \n",
       "        <td id=\"T_0a113ddc_452c_11e9_b8ec_8c85902c29bdrow1_col6\" class=\"data row1 col6\" >94.1%</td> \n",
       "        <td id=\"T_0a113ddc_452c_11e9_b8ec_8c85902c29bdrow1_col7\" class=\"data row1 col7\" >97.0%</td> \n",
       "        <td id=\"T_0a113ddc_452c_11e9_b8ec_8c85902c29bdrow1_col8\" class=\"data row1 col8\" >95.6%</td> \n",
       "    </tr>    <tr> \n",
       "        <th id=\"T_0a113ddc_452c_11e9_b8ec_8c85902c29bdlevel0_row2\" class=\"row_heading level0 row2\" >Figueroa High School</th> \n",
       "        <td id=\"T_0a113ddc_452c_11e9_b8ec_8c85902c29bdrow2_col0\" class=\"data row2 col0\" >District</td> \n",
       "        <td id=\"T_0a113ddc_452c_11e9_b8ec_8c85902c29bdrow2_col1\" class=\"data row2 col1\" >2,949</td> \n",
       "        <td id=\"T_0a113ddc_452c_11e9_b8ec_8c85902c29bdrow2_col2\" class=\"data row2 col2\" >$1,884,411</td> \n",
       "        <td id=\"T_0a113ddc_452c_11e9_b8ec_8c85902c29bdrow2_col3\" class=\"data row2 col3\" >$639</td> \n",
       "        <td id=\"T_0a113ddc_452c_11e9_b8ec_8c85902c29bdrow2_col4\" class=\"data row2 col4\" >76.7</td> \n",
       "        <td id=\"T_0a113ddc_452c_11e9_b8ec_8c85902c29bdrow2_col5\" class=\"data row2 col5\" >81.2</td> \n",
       "        <td id=\"T_0a113ddc_452c_11e9_b8ec_8c85902c29bdrow2_col6\" class=\"data row2 col6\" >66.0%</td> \n",
       "        <td id=\"T_0a113ddc_452c_11e9_b8ec_8c85902c29bdrow2_col7\" class=\"data row2 col7\" >80.7%</td> \n",
       "        <td id=\"T_0a113ddc_452c_11e9_b8ec_8c85902c29bdrow2_col8\" class=\"data row2 col8\" >73.4%</td> \n",
       "    </tr>    <tr> \n",
       "        <th id=\"T_0a113ddc_452c_11e9_b8ec_8c85902c29bdlevel0_row3\" class=\"row_heading level0 row3\" >Ford High School</th> \n",
       "        <td id=\"T_0a113ddc_452c_11e9_b8ec_8c85902c29bdrow3_col0\" class=\"data row3 col0\" >District</td> \n",
       "        <td id=\"T_0a113ddc_452c_11e9_b8ec_8c85902c29bdrow3_col1\" class=\"data row3 col1\" >2,739</td> \n",
       "        <td id=\"T_0a113ddc_452c_11e9_b8ec_8c85902c29bdrow3_col2\" class=\"data row3 col2\" >$1,763,916</td> \n",
       "        <td id=\"T_0a113ddc_452c_11e9_b8ec_8c85902c29bdrow3_col3\" class=\"data row3 col3\" >$644</td> \n",
       "        <td id=\"T_0a113ddc_452c_11e9_b8ec_8c85902c29bdrow3_col4\" class=\"data row3 col4\" >77.1</td> \n",
       "        <td id=\"T_0a113ddc_452c_11e9_b8ec_8c85902c29bdrow3_col5\" class=\"data row3 col5\" >80.7</td> \n",
       "        <td id=\"T_0a113ddc_452c_11e9_b8ec_8c85902c29bdrow3_col6\" class=\"data row3 col6\" >68.3%</td> \n",
       "        <td id=\"T_0a113ddc_452c_11e9_b8ec_8c85902c29bdrow3_col7\" class=\"data row3 col7\" >79.3%</td> \n",
       "        <td id=\"T_0a113ddc_452c_11e9_b8ec_8c85902c29bdrow3_col8\" class=\"data row3 col8\" >73.8%</td> \n",
       "    </tr>    <tr> \n",
       "        <th id=\"T_0a113ddc_452c_11e9_b8ec_8c85902c29bdlevel0_row4\" class=\"row_heading level0 row4\" >Griffin High School</th> \n",
       "        <td id=\"T_0a113ddc_452c_11e9_b8ec_8c85902c29bdrow4_col0\" class=\"data row4 col0\" >Charter</td> \n",
       "        <td id=\"T_0a113ddc_452c_11e9_b8ec_8c85902c29bdrow4_col1\" class=\"data row4 col1\" >1,468</td> \n",
       "        <td id=\"T_0a113ddc_452c_11e9_b8ec_8c85902c29bdrow4_col2\" class=\"data row4 col2\" >$917,500</td> \n",
       "        <td id=\"T_0a113ddc_452c_11e9_b8ec_8c85902c29bdrow4_col3\" class=\"data row4 col3\" >$625</td> \n",
       "        <td id=\"T_0a113ddc_452c_11e9_b8ec_8c85902c29bdrow4_col4\" class=\"data row4 col4\" >83.4</td> \n",
       "        <td id=\"T_0a113ddc_452c_11e9_b8ec_8c85902c29bdrow4_col5\" class=\"data row4 col5\" >83.8</td> \n",
       "        <td id=\"T_0a113ddc_452c_11e9_b8ec_8c85902c29bdrow4_col6\" class=\"data row4 col6\" >93.4%</td> \n",
       "        <td id=\"T_0a113ddc_452c_11e9_b8ec_8c85902c29bdrow4_col7\" class=\"data row4 col7\" >97.1%</td> \n",
       "        <td id=\"T_0a113ddc_452c_11e9_b8ec_8c85902c29bdrow4_col8\" class=\"data row4 col8\" >95.3%</td> \n",
       "    </tr>    <tr> \n",
       "        <th id=\"T_0a113ddc_452c_11e9_b8ec_8c85902c29bdlevel0_row5\" class=\"row_heading level0 row5\" >Hernandez High School</th> \n",
       "        <td id=\"T_0a113ddc_452c_11e9_b8ec_8c85902c29bdrow5_col0\" class=\"data row5 col0\" >District</td> \n",
       "        <td id=\"T_0a113ddc_452c_11e9_b8ec_8c85902c29bdrow5_col1\" class=\"data row5 col1\" >4,635</td> \n",
       "        <td id=\"T_0a113ddc_452c_11e9_b8ec_8c85902c29bdrow5_col2\" class=\"data row5 col2\" >$3,022,020</td> \n",
       "        <td id=\"T_0a113ddc_452c_11e9_b8ec_8c85902c29bdrow5_col3\" class=\"data row5 col3\" >$652</td> \n",
       "        <td id=\"T_0a113ddc_452c_11e9_b8ec_8c85902c29bdrow5_col4\" class=\"data row5 col4\" >77.3</td> \n",
       "        <td id=\"T_0a113ddc_452c_11e9_b8ec_8c85902c29bdrow5_col5\" class=\"data row5 col5\" >80.9</td> \n",
       "        <td id=\"T_0a113ddc_452c_11e9_b8ec_8c85902c29bdrow5_col6\" class=\"data row5 col6\" >66.8%</td> \n",
       "        <td id=\"T_0a113ddc_452c_11e9_b8ec_8c85902c29bdrow5_col7\" class=\"data row5 col7\" >80.9%</td> \n",
       "        <td id=\"T_0a113ddc_452c_11e9_b8ec_8c85902c29bdrow5_col8\" class=\"data row5 col8\" >73.8%</td> \n",
       "    </tr>    <tr> \n",
       "        <th id=\"T_0a113ddc_452c_11e9_b8ec_8c85902c29bdlevel0_row6\" class=\"row_heading level0 row6\" >Holden High School</th> \n",
       "        <td id=\"T_0a113ddc_452c_11e9_b8ec_8c85902c29bdrow6_col0\" class=\"data row6 col0\" >Charter</td> \n",
       "        <td id=\"T_0a113ddc_452c_11e9_b8ec_8c85902c29bdrow6_col1\" class=\"data row6 col1\" >427</td> \n",
       "        <td id=\"T_0a113ddc_452c_11e9_b8ec_8c85902c29bdrow6_col2\" class=\"data row6 col2\" >$248,087</td> \n",
       "        <td id=\"T_0a113ddc_452c_11e9_b8ec_8c85902c29bdrow6_col3\" class=\"data row6 col3\" >$581</td> \n",
       "        <td id=\"T_0a113ddc_452c_11e9_b8ec_8c85902c29bdrow6_col4\" class=\"data row6 col4\" >83.8</td> \n",
       "        <td id=\"T_0a113ddc_452c_11e9_b8ec_8c85902c29bdrow6_col5\" class=\"data row6 col5\" >83.8</td> \n",
       "        <td id=\"T_0a113ddc_452c_11e9_b8ec_8c85902c29bdrow6_col6\" class=\"data row6 col6\" >92.5%</td> \n",
       "        <td id=\"T_0a113ddc_452c_11e9_b8ec_8c85902c29bdrow6_col7\" class=\"data row6 col7\" >96.3%</td> \n",
       "        <td id=\"T_0a113ddc_452c_11e9_b8ec_8c85902c29bdrow6_col8\" class=\"data row6 col8\" >94.4%</td> \n",
       "    </tr>    <tr> \n",
       "        <th id=\"T_0a113ddc_452c_11e9_b8ec_8c85902c29bdlevel0_row7\" class=\"row_heading level0 row7\" >Huang High School</th> \n",
       "        <td id=\"T_0a113ddc_452c_11e9_b8ec_8c85902c29bdrow7_col0\" class=\"data row7 col0\" >District</td> \n",
       "        <td id=\"T_0a113ddc_452c_11e9_b8ec_8c85902c29bdrow7_col1\" class=\"data row7 col1\" >2,917</td> \n",
       "        <td id=\"T_0a113ddc_452c_11e9_b8ec_8c85902c29bdrow7_col2\" class=\"data row7 col2\" >$1,910,635</td> \n",
       "        <td id=\"T_0a113ddc_452c_11e9_b8ec_8c85902c29bdrow7_col3\" class=\"data row7 col3\" >$655</td> \n",
       "        <td id=\"T_0a113ddc_452c_11e9_b8ec_8c85902c29bdrow7_col4\" class=\"data row7 col4\" >76.6</td> \n",
       "        <td id=\"T_0a113ddc_452c_11e9_b8ec_8c85902c29bdrow7_col5\" class=\"data row7 col5\" >81.2</td> \n",
       "        <td id=\"T_0a113ddc_452c_11e9_b8ec_8c85902c29bdrow7_col6\" class=\"data row7 col6\" >65.7%</td> \n",
       "        <td id=\"T_0a113ddc_452c_11e9_b8ec_8c85902c29bdrow7_col7\" class=\"data row7 col7\" >81.3%</td> \n",
       "        <td id=\"T_0a113ddc_452c_11e9_b8ec_8c85902c29bdrow7_col8\" class=\"data row7 col8\" >73.5%</td> \n",
       "    </tr>    <tr> \n",
       "        <th id=\"T_0a113ddc_452c_11e9_b8ec_8c85902c29bdlevel0_row8\" class=\"row_heading level0 row8\" >Johnson High School</th> \n",
       "        <td id=\"T_0a113ddc_452c_11e9_b8ec_8c85902c29bdrow8_col0\" class=\"data row8 col0\" >District</td> \n",
       "        <td id=\"T_0a113ddc_452c_11e9_b8ec_8c85902c29bdrow8_col1\" class=\"data row8 col1\" >4,761</td> \n",
       "        <td id=\"T_0a113ddc_452c_11e9_b8ec_8c85902c29bdrow8_col2\" class=\"data row8 col2\" >$3,094,650</td> \n",
       "        <td id=\"T_0a113ddc_452c_11e9_b8ec_8c85902c29bdrow8_col3\" class=\"data row8 col3\" >$650</td> \n",
       "        <td id=\"T_0a113ddc_452c_11e9_b8ec_8c85902c29bdrow8_col4\" class=\"data row8 col4\" >77.1</td> \n",
       "        <td id=\"T_0a113ddc_452c_11e9_b8ec_8c85902c29bdrow8_col5\" class=\"data row8 col5\" >81.0</td> \n",
       "        <td id=\"T_0a113ddc_452c_11e9_b8ec_8c85902c29bdrow8_col6\" class=\"data row8 col6\" >66.1%</td> \n",
       "        <td id=\"T_0a113ddc_452c_11e9_b8ec_8c85902c29bdrow8_col7\" class=\"data row8 col7\" >81.2%</td> \n",
       "        <td id=\"T_0a113ddc_452c_11e9_b8ec_8c85902c29bdrow8_col8\" class=\"data row8 col8\" >73.6%</td> \n",
       "    </tr>    <tr> \n",
       "        <th id=\"T_0a113ddc_452c_11e9_b8ec_8c85902c29bdlevel0_row9\" class=\"row_heading level0 row9\" >Pena High School</th> \n",
       "        <td id=\"T_0a113ddc_452c_11e9_b8ec_8c85902c29bdrow9_col0\" class=\"data row9 col0\" >Charter</td> \n",
       "        <td id=\"T_0a113ddc_452c_11e9_b8ec_8c85902c29bdrow9_col1\" class=\"data row9 col1\" >962</td> \n",
       "        <td id=\"T_0a113ddc_452c_11e9_b8ec_8c85902c29bdrow9_col2\" class=\"data row9 col2\" >$585,858</td> \n",
       "        <td id=\"T_0a113ddc_452c_11e9_b8ec_8c85902c29bdrow9_col3\" class=\"data row9 col3\" >$609</td> \n",
       "        <td id=\"T_0a113ddc_452c_11e9_b8ec_8c85902c29bdrow9_col4\" class=\"data row9 col4\" >83.8</td> \n",
       "        <td id=\"T_0a113ddc_452c_11e9_b8ec_8c85902c29bdrow9_col5\" class=\"data row9 col5\" >84.0</td> \n",
       "        <td id=\"T_0a113ddc_452c_11e9_b8ec_8c85902c29bdrow9_col6\" class=\"data row9 col6\" >94.6%</td> \n",
       "        <td id=\"T_0a113ddc_452c_11e9_b8ec_8c85902c29bdrow9_col7\" class=\"data row9 col7\" >95.9%</td> \n",
       "        <td id=\"T_0a113ddc_452c_11e9_b8ec_8c85902c29bdrow9_col8\" class=\"data row9 col8\" >95.3%</td> \n",
       "    </tr>    <tr> \n",
       "        <th id=\"T_0a113ddc_452c_11e9_b8ec_8c85902c29bdlevel0_row10\" class=\"row_heading level0 row10\" >Rodriguez High School</th> \n",
       "        <td id=\"T_0a113ddc_452c_11e9_b8ec_8c85902c29bdrow10_col0\" class=\"data row10 col0\" >District</td> \n",
       "        <td id=\"T_0a113ddc_452c_11e9_b8ec_8c85902c29bdrow10_col1\" class=\"data row10 col1\" >3,999</td> \n",
       "        <td id=\"T_0a113ddc_452c_11e9_b8ec_8c85902c29bdrow10_col2\" class=\"data row10 col2\" >$2,547,363</td> \n",
       "        <td id=\"T_0a113ddc_452c_11e9_b8ec_8c85902c29bdrow10_col3\" class=\"data row10 col3\" >$637</td> \n",
       "        <td id=\"T_0a113ddc_452c_11e9_b8ec_8c85902c29bdrow10_col4\" class=\"data row10 col4\" >76.8</td> \n",
       "        <td id=\"T_0a113ddc_452c_11e9_b8ec_8c85902c29bdrow10_col5\" class=\"data row10 col5\" >80.7</td> \n",
       "        <td id=\"T_0a113ddc_452c_11e9_b8ec_8c85902c29bdrow10_col6\" class=\"data row10 col6\" >66.4%</td> \n",
       "        <td id=\"T_0a113ddc_452c_11e9_b8ec_8c85902c29bdrow10_col7\" class=\"data row10 col7\" >80.2%</td> \n",
       "        <td id=\"T_0a113ddc_452c_11e9_b8ec_8c85902c29bdrow10_col8\" class=\"data row10 col8\" >73.3%</td> \n",
       "    </tr>    <tr> \n",
       "        <th id=\"T_0a113ddc_452c_11e9_b8ec_8c85902c29bdlevel0_row11\" class=\"row_heading level0 row11\" >Shelton High School</th> \n",
       "        <td id=\"T_0a113ddc_452c_11e9_b8ec_8c85902c29bdrow11_col0\" class=\"data row11 col0\" >Charter</td> \n",
       "        <td id=\"T_0a113ddc_452c_11e9_b8ec_8c85902c29bdrow11_col1\" class=\"data row11 col1\" >1,761</td> \n",
       "        <td id=\"T_0a113ddc_452c_11e9_b8ec_8c85902c29bdrow11_col2\" class=\"data row11 col2\" >$1,056,600</td> \n",
       "        <td id=\"T_0a113ddc_452c_11e9_b8ec_8c85902c29bdrow11_col3\" class=\"data row11 col3\" >$600</td> \n",
       "        <td id=\"T_0a113ddc_452c_11e9_b8ec_8c85902c29bdrow11_col4\" class=\"data row11 col4\" >83.4</td> \n",
       "        <td id=\"T_0a113ddc_452c_11e9_b8ec_8c85902c29bdrow11_col5\" class=\"data row11 col5\" >83.7</td> \n",
       "        <td id=\"T_0a113ddc_452c_11e9_b8ec_8c85902c29bdrow11_col6\" class=\"data row11 col6\" >93.9%</td> \n",
       "        <td id=\"T_0a113ddc_452c_11e9_b8ec_8c85902c29bdrow11_col7\" class=\"data row11 col7\" >95.9%</td> \n",
       "        <td id=\"T_0a113ddc_452c_11e9_b8ec_8c85902c29bdrow11_col8\" class=\"data row11 col8\" >94.9%</td> \n",
       "    </tr>    <tr> \n",
       "        <th id=\"T_0a113ddc_452c_11e9_b8ec_8c85902c29bdlevel0_row12\" class=\"row_heading level0 row12\" >Thomas High School</th> \n",
       "        <td id=\"T_0a113ddc_452c_11e9_b8ec_8c85902c29bdrow12_col0\" class=\"data row12 col0\" >Charter</td> \n",
       "        <td id=\"T_0a113ddc_452c_11e9_b8ec_8c85902c29bdrow12_col1\" class=\"data row12 col1\" >1,635</td> \n",
       "        <td id=\"T_0a113ddc_452c_11e9_b8ec_8c85902c29bdrow12_col2\" class=\"data row12 col2\" >$1,043,130</td> \n",
       "        <td id=\"T_0a113ddc_452c_11e9_b8ec_8c85902c29bdrow12_col3\" class=\"data row12 col3\" >$638</td> \n",
       "        <td id=\"T_0a113ddc_452c_11e9_b8ec_8c85902c29bdrow12_col4\" class=\"data row12 col4\" >83.4</td> \n",
       "        <td id=\"T_0a113ddc_452c_11e9_b8ec_8c85902c29bdrow12_col5\" class=\"data row12 col5\" >83.8</td> \n",
       "        <td id=\"T_0a113ddc_452c_11e9_b8ec_8c85902c29bdrow12_col6\" class=\"data row12 col6\" >93.3%</td> \n",
       "        <td id=\"T_0a113ddc_452c_11e9_b8ec_8c85902c29bdrow12_col7\" class=\"data row12 col7\" >97.3%</td> \n",
       "        <td id=\"T_0a113ddc_452c_11e9_b8ec_8c85902c29bdrow12_col8\" class=\"data row12 col8\" >95.3%</td> \n",
       "    </tr>    <tr> \n",
       "        <th id=\"T_0a113ddc_452c_11e9_b8ec_8c85902c29bdlevel0_row13\" class=\"row_heading level0 row13\" >Wilson High School</th> \n",
       "        <td id=\"T_0a113ddc_452c_11e9_b8ec_8c85902c29bdrow13_col0\" class=\"data row13 col0\" >Charter</td> \n",
       "        <td id=\"T_0a113ddc_452c_11e9_b8ec_8c85902c29bdrow13_col1\" class=\"data row13 col1\" >2,283</td> \n",
       "        <td id=\"T_0a113ddc_452c_11e9_b8ec_8c85902c29bdrow13_col2\" class=\"data row13 col2\" >$1,319,574</td> \n",
       "        <td id=\"T_0a113ddc_452c_11e9_b8ec_8c85902c29bdrow13_col3\" class=\"data row13 col3\" >$578</td> \n",
       "        <td id=\"T_0a113ddc_452c_11e9_b8ec_8c85902c29bdrow13_col4\" class=\"data row13 col4\" >83.3</td> \n",
       "        <td id=\"T_0a113ddc_452c_11e9_b8ec_8c85902c29bdrow13_col5\" class=\"data row13 col5\" >84.0</td> \n",
       "        <td id=\"T_0a113ddc_452c_11e9_b8ec_8c85902c29bdrow13_col6\" class=\"data row13 col6\" >93.9%</td> \n",
       "        <td id=\"T_0a113ddc_452c_11e9_b8ec_8c85902c29bdrow13_col7\" class=\"data row13 col7\" >96.5%</td> \n",
       "        <td id=\"T_0a113ddc_452c_11e9_b8ec_8c85902c29bdrow13_col8\" class=\"data row13 col8\" >95.2%</td> \n",
       "    </tr>    <tr> \n",
       "        <th id=\"T_0a113ddc_452c_11e9_b8ec_8c85902c29bdlevel0_row14\" class=\"row_heading level0 row14\" >Wright High School</th> \n",
       "        <td id=\"T_0a113ddc_452c_11e9_b8ec_8c85902c29bdrow14_col0\" class=\"data row14 col0\" >Charter</td> \n",
       "        <td id=\"T_0a113ddc_452c_11e9_b8ec_8c85902c29bdrow14_col1\" class=\"data row14 col1\" >1,800</td> \n",
       "        <td id=\"T_0a113ddc_452c_11e9_b8ec_8c85902c29bdrow14_col2\" class=\"data row14 col2\" >$1,049,400</td> \n",
       "        <td id=\"T_0a113ddc_452c_11e9_b8ec_8c85902c29bdrow14_col3\" class=\"data row14 col3\" >$583</td> \n",
       "        <td id=\"T_0a113ddc_452c_11e9_b8ec_8c85902c29bdrow14_col4\" class=\"data row14 col4\" >83.7</td> \n",
       "        <td id=\"T_0a113ddc_452c_11e9_b8ec_8c85902c29bdrow14_col5\" class=\"data row14 col5\" >84.0</td> \n",
       "        <td id=\"T_0a113ddc_452c_11e9_b8ec_8c85902c29bdrow14_col6\" class=\"data row14 col6\" >93.3%</td> \n",
       "        <td id=\"T_0a113ddc_452c_11e9_b8ec_8c85902c29bdrow14_col7\" class=\"data row14 col7\" >96.6%</td> \n",
       "        <td id=\"T_0a113ddc_452c_11e9_b8ec_8c85902c29bdrow14_col8\" class=\"data row14 col8\" >95.0%</td> \n",
       "    </tr></tbody> \n",
       "</table> "
      ],
      "text/plain": [
       "<pandas.io.formats.style.Styler at 0x113861240>"
      ]
     },
     "execution_count": 27,
     "metadata": {},
     "output_type": "execute_result"
    }
   ],
   "source": [
    "#styling and formatting School Summary Output\n",
    "school_summary = school_summary[['School Type', \n",
    "                          'Total Students', \n",
    "                          'Total School Budget', \n",
    "                          'Per Student Budget', \n",
    "                          'Average Math Score', \n",
    "                          'Average Reading Score',\n",
    "                          '% Passing Math',\n",
    "                          '% Passing Reading',\n",
    "                          'Overall Passing Rate']]\n",
    "\n",
    "school_summary.style.format({'Total Students': '{:,}', \n",
    "                          \"Total School Budget\": \"${:,}\", \n",
    "                          \"Per Student Budget\": \"${:.0f}\",\n",
    "                          'Average Math Score': \"{:.1f}\", \n",
    "                          'Average Reading Score': \"{:.1f}\", \n",
    "                          \"% Passing Math\": \"{:.1%}\", \n",
    "                          \"% Passing Reading\": \"{:.1%}\", \n",
    "                          \"Overall Passing Rate\": \"{:.1%}\"})"
   ]
  },
  {
   "cell_type": "markdown",
   "metadata": {},
   "source": [
    "## Top Performing Schools (By Passing Rate)"
   ]
  },
  {
   "cell_type": "markdown",
   "metadata": {},
   "source": [
    "* Sort and display the top five schools in overall passing rate"
   ]
  },
  {
   "cell_type": "code",
   "execution_count": 28,
   "metadata": {},
   "outputs": [
    {
     "data": {
      "text/html": [
       "<div>\n",
       "<style scoped>\n",
       "    .dataframe tbody tr th:only-of-type {\n",
       "        vertical-align: middle;\n",
       "    }\n",
       "\n",
       "    .dataframe tbody tr th {\n",
       "        vertical-align: top;\n",
       "    }\n",
       "\n",
       "    .dataframe thead th {\n",
       "        text-align: right;\n",
       "    }\n",
       "</style>\n",
       "<table border=\"1\" class=\"dataframe\">\n",
       "  <thead>\n",
       "    <tr style=\"text-align: right;\">\n",
       "      <th></th>\n",
       "      <th>School Type</th>\n",
       "      <th>Total Students</th>\n",
       "      <th>Total School Budget</th>\n",
       "      <th>Per Student Budget</th>\n",
       "      <th>Average Math Score</th>\n",
       "      <th>Average Reading Score</th>\n",
       "      <th>% Passing Math</th>\n",
       "      <th>% Passing Reading</th>\n",
       "      <th>Overall Passing Rate</th>\n",
       "    </tr>\n",
       "  </thead>\n",
       "  <tbody>\n",
       "    <tr>\n",
       "      <th>Cabrera High School</th>\n",
       "      <td>Charter</td>\n",
       "      <td>1858</td>\n",
       "      <td>1081356</td>\n",
       "      <td>582.0</td>\n",
       "      <td>83.061895</td>\n",
       "      <td>83.975780</td>\n",
       "      <td>0.941335</td>\n",
       "      <td>0.970398</td>\n",
       "      <td>0.955867</td>\n",
       "    </tr>\n",
       "    <tr>\n",
       "      <th>Thomas High School</th>\n",
       "      <td>Charter</td>\n",
       "      <td>1635</td>\n",
       "      <td>1043130</td>\n",
       "      <td>638.0</td>\n",
       "      <td>83.418349</td>\n",
       "      <td>83.848930</td>\n",
       "      <td>0.932722</td>\n",
       "      <td>0.973089</td>\n",
       "      <td>0.952905</td>\n",
       "    </tr>\n",
       "    <tr>\n",
       "      <th>Pena High School</th>\n",
       "      <td>Charter</td>\n",
       "      <td>962</td>\n",
       "      <td>585858</td>\n",
       "      <td>609.0</td>\n",
       "      <td>83.839917</td>\n",
       "      <td>84.044699</td>\n",
       "      <td>0.945946</td>\n",
       "      <td>0.959459</td>\n",
       "      <td>0.952703</td>\n",
       "    </tr>\n",
       "    <tr>\n",
       "      <th>Griffin High School</th>\n",
       "      <td>Charter</td>\n",
       "      <td>1468</td>\n",
       "      <td>917500</td>\n",
       "      <td>625.0</td>\n",
       "      <td>83.351499</td>\n",
       "      <td>83.816757</td>\n",
       "      <td>0.933924</td>\n",
       "      <td>0.971390</td>\n",
       "      <td>0.952657</td>\n",
       "    </tr>\n",
       "    <tr>\n",
       "      <th>Wilson High School</th>\n",
       "      <td>Charter</td>\n",
       "      <td>2283</td>\n",
       "      <td>1319574</td>\n",
       "      <td>578.0</td>\n",
       "      <td>83.274201</td>\n",
       "      <td>83.989488</td>\n",
       "      <td>0.938677</td>\n",
       "      <td>0.965396</td>\n",
       "      <td>0.952037</td>\n",
       "    </tr>\n",
       "  </tbody>\n",
       "</table>\n",
       "</div>"
      ],
      "text/plain": [
       "                    School Type  Total Students  Total School Budget  \\\n",
       "Cabrera High School     Charter            1858              1081356   \n",
       "Thomas High School      Charter            1635              1043130   \n",
       "Pena High School        Charter             962               585858   \n",
       "Griffin High School     Charter            1468               917500   \n",
       "Wilson High School      Charter            2283              1319574   \n",
       "\n",
       "                     Per Student Budget  Average Math Score  \\\n",
       "Cabrera High School               582.0           83.061895   \n",
       "Thomas High School                638.0           83.418349   \n",
       "Pena High School                  609.0           83.839917   \n",
       "Griffin High School               625.0           83.351499   \n",
       "Wilson High School                578.0           83.274201   \n",
       "\n",
       "                     Average Reading Score  % Passing Math  % Passing Reading  \\\n",
       "Cabrera High School              83.975780        0.941335           0.970398   \n",
       "Thomas High School               83.848930        0.932722           0.973089   \n",
       "Pena High School                 84.044699        0.945946           0.959459   \n",
       "Griffin High School              83.816757        0.933924           0.971390   \n",
       "Wilson High School               83.989488        0.938677           0.965396   \n",
       "\n",
       "                     Overall Passing Rate  \n",
       "Cabrera High School              0.955867  \n",
       "Thomas High School               0.952905  \n",
       "Pena High School                 0.952703  \n",
       "Griffin High School              0.952657  \n",
       "Wilson High School               0.952037  "
      ]
     },
     "execution_count": 28,
     "metadata": {},
     "output_type": "execute_result"
    }
   ],
   "source": [
    "top_five_schools=school_summary.sort_values(\"Overall Passing Rate\", ascending = False)\n",
    "\n",
    "top_five_schools.style.format({'Total Students': '{:,}', \n",
    "                          \"Total School Budget\": \"${:,}\", \n",
    "                          \"Per Student Budget\": \"${:.0f}\",\n",
    "                          'Average Math Score': \"{:.1f}\", \n",
    "                          'Average Reading Score': \"{:.1f}\", \n",
    "                          \"% Passing Math\": \"{:.1%}\", \n",
    "                          \"% Passing Reading\": \"{:.1%}\", \n",
    "                          \"Overall Passing Rate\": \"{:.1%}\"})\n",
    "\n",
    "top_five_schools.head()"
   ]
  },
  {
   "cell_type": "markdown",
   "metadata": {},
   "source": [
    "## Bottom Performing Schools (By Passing Rate)"
   ]
  },
  {
   "cell_type": "markdown",
   "metadata": {},
   "source": [
    "* Sort and display the five worst-performing schools"
   ]
  },
  {
   "cell_type": "code",
   "execution_count": 29,
   "metadata": {},
   "outputs": [],
   "source": [
    "#Select the bottom 5 schools\n",
    "bottom_five_schools=school_summary.sort_values(\"Overall Passing Rate\", ascending = True)"
   ]
  },
  {
   "cell_type": "code",
   "execution_count": 30,
   "metadata": {},
   "outputs": [],
   "source": [
    "#Sort from worst to better amont the bottom 5\n",
    "bottom_five_schools = bottom_five_schools.sort_values('Overall Passing Rate')"
   ]
  },
  {
   "cell_type": "code",
   "execution_count": 31,
   "metadata": {},
   "outputs": [
    {
     "data": {
      "text/html": [
       "<div>\n",
       "<style scoped>\n",
       "    .dataframe tbody tr th:only-of-type {\n",
       "        vertical-align: middle;\n",
       "    }\n",
       "\n",
       "    .dataframe tbody tr th {\n",
       "        vertical-align: top;\n",
       "    }\n",
       "\n",
       "    .dataframe thead th {\n",
       "        text-align: right;\n",
       "    }\n",
       "</style>\n",
       "<table border=\"1\" class=\"dataframe\">\n",
       "  <thead>\n",
       "    <tr style=\"text-align: right;\">\n",
       "      <th></th>\n",
       "      <th>School Type</th>\n",
       "      <th>Total Students</th>\n",
       "      <th>Total School Budget</th>\n",
       "      <th>Per Student Budget</th>\n",
       "      <th>Average Math Score</th>\n",
       "      <th>Average Reading Score</th>\n",
       "      <th>% Passing Math</th>\n",
       "      <th>% Passing Reading</th>\n",
       "      <th>Overall Passing Rate</th>\n",
       "    </tr>\n",
       "  </thead>\n",
       "  <tbody>\n",
       "    <tr>\n",
       "      <th>Rodriguez High School</th>\n",
       "      <td>District</td>\n",
       "      <td>3999</td>\n",
       "      <td>2547363</td>\n",
       "      <td>637.0</td>\n",
       "      <td>76.842711</td>\n",
       "      <td>80.744686</td>\n",
       "      <td>0.663666</td>\n",
       "      <td>0.802201</td>\n",
       "      <td>0.732933</td>\n",
       "    </tr>\n",
       "    <tr>\n",
       "      <th>Figueroa High School</th>\n",
       "      <td>District</td>\n",
       "      <td>2949</td>\n",
       "      <td>1884411</td>\n",
       "      <td>639.0</td>\n",
       "      <td>76.711767</td>\n",
       "      <td>81.158020</td>\n",
       "      <td>0.659885</td>\n",
       "      <td>0.807392</td>\n",
       "      <td>0.733639</td>\n",
       "    </tr>\n",
       "    <tr>\n",
       "      <th>Huang High School</th>\n",
       "      <td>District</td>\n",
       "      <td>2917</td>\n",
       "      <td>1910635</td>\n",
       "      <td>655.0</td>\n",
       "      <td>76.629414</td>\n",
       "      <td>81.182722</td>\n",
       "      <td>0.656839</td>\n",
       "      <td>0.813164</td>\n",
       "      <td>0.735002</td>\n",
       "    </tr>\n",
       "    <tr>\n",
       "      <th>Johnson High School</th>\n",
       "      <td>District</td>\n",
       "      <td>4761</td>\n",
       "      <td>3094650</td>\n",
       "      <td>650.0</td>\n",
       "      <td>77.072464</td>\n",
       "      <td>80.966394</td>\n",
       "      <td>0.660576</td>\n",
       "      <td>0.812224</td>\n",
       "      <td>0.736400</td>\n",
       "    </tr>\n",
       "    <tr>\n",
       "      <th>Ford High School</th>\n",
       "      <td>District</td>\n",
       "      <td>2739</td>\n",
       "      <td>1763916</td>\n",
       "      <td>644.0</td>\n",
       "      <td>77.102592</td>\n",
       "      <td>80.746258</td>\n",
       "      <td>0.683096</td>\n",
       "      <td>0.792990</td>\n",
       "      <td>0.738043</td>\n",
       "    </tr>\n",
       "  </tbody>\n",
       "</table>\n",
       "</div>"
      ],
      "text/plain": [
       "                      School Type  Total Students  Total School Budget  \\\n",
       "Rodriguez High School    District            3999              2547363   \n",
       "Figueroa High School     District            2949              1884411   \n",
       "Huang High School        District            2917              1910635   \n",
       "Johnson High School      District            4761              3094650   \n",
       "Ford High School         District            2739              1763916   \n",
       "\n",
       "                       Per Student Budget  Average Math Score  \\\n",
       "Rodriguez High School               637.0           76.842711   \n",
       "Figueroa High School                639.0           76.711767   \n",
       "Huang High School                   655.0           76.629414   \n",
       "Johnson High School                 650.0           77.072464   \n",
       "Ford High School                    644.0           77.102592   \n",
       "\n",
       "                       Average Reading Score  % Passing Math  \\\n",
       "Rodriguez High School              80.744686        0.663666   \n",
       "Figueroa High School               81.158020        0.659885   \n",
       "Huang High School                  81.182722        0.656839   \n",
       "Johnson High School                80.966394        0.660576   \n",
       "Ford High School                   80.746258        0.683096   \n",
       "\n",
       "                       % Passing Reading  Overall Passing Rate  \n",
       "Rodriguez High School           0.802201              0.732933  \n",
       "Figueroa High School            0.807392              0.733639  \n",
       "Huang High School               0.813164              0.735002  \n",
       "Johnson High School             0.812224              0.736400  \n",
       "Ford High School                0.792990              0.738043  "
      ]
     },
     "execution_count": 31,
     "metadata": {},
     "output_type": "execute_result"
    }
   ],
   "source": [
    "bottom_five_schools.style.format({'Total Students': '{:,}', \n",
    "                          \"Total School Budget\": \"${:,}\", \n",
    "                          \"Per Student Budget\": \"${:.0f}\",\n",
    "                          'Average Math Score': \"{:.1f}\", \n",
    "                          'Average Reading Score': \"{:.1f}\", \n",
    "                          \"% Passing Math\": \"{:.1%}\", \n",
    "                          \"% Passing Reading\": \"{:.1%}\", \n",
    "                          \"Overall Passing Rate\": \"{:.1%}\"})\n",
    "\n",
    "bottom_five_schools.head()"
   ]
  },
  {
   "cell_type": "markdown",
   "metadata": {
    "collapsed": true
   },
   "source": [
    "## Math Scores by Grade"
   ]
  },
  {
   "cell_type": "markdown",
   "metadata": {},
   "source": [
    "* Create a table that lists the average Reading Score for students of each grade level (9th, 10th, 11th, 12th) at each school.\n",
    "\n",
    "  * Create a pandas series for each grade. Hint: use a conditional statement.\n",
    "  \n",
    "  * Group each series by school\n",
    "  \n",
    "  * Combine the series into a dataframe\n",
    "  \n",
    "  * Optional: give the displayed data cleaner formatting"
   ]
  },
  {
   "cell_type": "code",
   "execution_count": 32,
   "metadata": {},
   "outputs": [],
   "source": [
    "#Create a table that lists the average Math Score = Grade 9 and group by school\n",
    "ninth_math_scores = student_df.loc[student_df['grade']=='9th'].groupby('school_name')[\"math_score\"].mean()"
   ]
  },
  {
   "cell_type": "code",
   "execution_count": 33,
   "metadata": {},
   "outputs": [],
   "source": [
    "#Create a table that lists the average Math Score = Grade 10 and group by school\n",
    "tenth_math_scores = student_df.loc[student_df['grade']=='10th'].groupby('school_name')[\"math_score\"].mean()"
   ]
  },
  {
   "cell_type": "code",
   "execution_count": 34,
   "metadata": {},
   "outputs": [],
   "source": [
    "#Create a table that lists the average Math Score = Grade 11 and group by school\n",
    "eleventh_math_scores = student_df.loc[student_df['grade']=='11th'].groupby('school_name')[\"math_score\"].mean()"
   ]
  },
  {
   "cell_type": "code",
   "execution_count": 35,
   "metadata": {},
   "outputs": [],
   "source": [
    "#Create a table that lists the average Math Score = Grade 12 and group by school\n",
    "twelveth_math_scores = student_df.loc[student_df['grade']=='12th'].groupby('school_name')[\"math_score\"].mean()"
   ]
  },
  {
   "cell_type": "code",
   "execution_count": 36,
   "metadata": {},
   "outputs": [],
   "source": [
    "#Combine the series into a dataframe\n",
    "math_scores = pd.DataFrame({\n",
    "        \"9th\": ninth_math_scores,\n",
    "        \"10th\": tenth_math_scores,\n",
    "        \"11th\": eleventh_math_scores,\n",
    "        \"12th\": twelveth_math_scores\n",
    "})\n",
    "math_scores = math_scores[['9th', '10th', '11th', '12th']]\n",
    "math_scores.index.name = \"School\""
   ]
  },
  {
   "cell_type": "code",
   "execution_count": 37,
   "metadata": {},
   "outputs": [
    {
     "data": {
      "text/html": [
       "<style  type=\"text/css\" >\n",
       "</style>  \n",
       "<table id=\"T_2274e3c6_452c_11e9_abbd_8c85902c29bd\" > \n",
       "<thead>    <tr> \n",
       "        <th class=\"blank level0\" ></th> \n",
       "        <th class=\"col_heading level0 col0\" >9th</th> \n",
       "        <th class=\"col_heading level0 col1\" >10th</th> \n",
       "        <th class=\"col_heading level0 col2\" >11th</th> \n",
       "        <th class=\"col_heading level0 col3\" >12th</th> \n",
       "    </tr>    <tr> \n",
       "        <th class=\"index_name level0\" >School</th> \n",
       "        <th class=\"blank\" ></th> \n",
       "        <th class=\"blank\" ></th> \n",
       "        <th class=\"blank\" ></th> \n",
       "        <th class=\"blank\" ></th> \n",
       "    </tr></thead> \n",
       "<tbody>    <tr> \n",
       "        <th id=\"T_2274e3c6_452c_11e9_abbd_8c85902c29bdlevel0_row0\" class=\"row_heading level0 row0\" >Bailey High School</th> \n",
       "        <td id=\"T_2274e3c6_452c_11e9_abbd_8c85902c29bdrow0_col0\" class=\"data row0 col0\" >77.1</td> \n",
       "        <td id=\"T_2274e3c6_452c_11e9_abbd_8c85902c29bdrow0_col1\" class=\"data row0 col1\" >77.0</td> \n",
       "        <td id=\"T_2274e3c6_452c_11e9_abbd_8c85902c29bdrow0_col2\" class=\"data row0 col2\" >77.5</td> \n",
       "        <td id=\"T_2274e3c6_452c_11e9_abbd_8c85902c29bdrow0_col3\" class=\"data row0 col3\" >76.5</td> \n",
       "    </tr>    <tr> \n",
       "        <th id=\"T_2274e3c6_452c_11e9_abbd_8c85902c29bdlevel0_row1\" class=\"row_heading level0 row1\" >Cabrera High School</th> \n",
       "        <td id=\"T_2274e3c6_452c_11e9_abbd_8c85902c29bdrow1_col0\" class=\"data row1 col0\" >83.1</td> \n",
       "        <td id=\"T_2274e3c6_452c_11e9_abbd_8c85902c29bdrow1_col1\" class=\"data row1 col1\" >83.2</td> \n",
       "        <td id=\"T_2274e3c6_452c_11e9_abbd_8c85902c29bdrow1_col2\" class=\"data row1 col2\" >82.8</td> \n",
       "        <td id=\"T_2274e3c6_452c_11e9_abbd_8c85902c29bdrow1_col3\" class=\"data row1 col3\" >83.3</td> \n",
       "    </tr>    <tr> \n",
       "        <th id=\"T_2274e3c6_452c_11e9_abbd_8c85902c29bdlevel0_row2\" class=\"row_heading level0 row2\" >Figueroa High School</th> \n",
       "        <td id=\"T_2274e3c6_452c_11e9_abbd_8c85902c29bdrow2_col0\" class=\"data row2 col0\" >76.4</td> \n",
       "        <td id=\"T_2274e3c6_452c_11e9_abbd_8c85902c29bdrow2_col1\" class=\"data row2 col1\" >76.5</td> \n",
       "        <td id=\"T_2274e3c6_452c_11e9_abbd_8c85902c29bdrow2_col2\" class=\"data row2 col2\" >76.9</td> \n",
       "        <td id=\"T_2274e3c6_452c_11e9_abbd_8c85902c29bdrow2_col3\" class=\"data row2 col3\" >77.2</td> \n",
       "    </tr>    <tr> \n",
       "        <th id=\"T_2274e3c6_452c_11e9_abbd_8c85902c29bdlevel0_row3\" class=\"row_heading level0 row3\" >Ford High School</th> \n",
       "        <td id=\"T_2274e3c6_452c_11e9_abbd_8c85902c29bdrow3_col0\" class=\"data row3 col0\" >77.4</td> \n",
       "        <td id=\"T_2274e3c6_452c_11e9_abbd_8c85902c29bdrow3_col1\" class=\"data row3 col1\" >77.7</td> \n",
       "        <td id=\"T_2274e3c6_452c_11e9_abbd_8c85902c29bdrow3_col2\" class=\"data row3 col2\" >76.9</td> \n",
       "        <td id=\"T_2274e3c6_452c_11e9_abbd_8c85902c29bdrow3_col3\" class=\"data row3 col3\" >76.2</td> \n",
       "    </tr>    <tr> \n",
       "        <th id=\"T_2274e3c6_452c_11e9_abbd_8c85902c29bdlevel0_row4\" class=\"row_heading level0 row4\" >Griffin High School</th> \n",
       "        <td id=\"T_2274e3c6_452c_11e9_abbd_8c85902c29bdrow4_col0\" class=\"data row4 col0\" >82.0</td> \n",
       "        <td id=\"T_2274e3c6_452c_11e9_abbd_8c85902c29bdrow4_col1\" class=\"data row4 col1\" >84.2</td> \n",
       "        <td id=\"T_2274e3c6_452c_11e9_abbd_8c85902c29bdrow4_col2\" class=\"data row4 col2\" >83.8</td> \n",
       "        <td id=\"T_2274e3c6_452c_11e9_abbd_8c85902c29bdrow4_col3\" class=\"data row4 col3\" >83.4</td> \n",
       "    </tr>    <tr> \n",
       "        <th id=\"T_2274e3c6_452c_11e9_abbd_8c85902c29bdlevel0_row5\" class=\"row_heading level0 row5\" >Hernandez High School</th> \n",
       "        <td id=\"T_2274e3c6_452c_11e9_abbd_8c85902c29bdrow5_col0\" class=\"data row5 col0\" >77.4</td> \n",
       "        <td id=\"T_2274e3c6_452c_11e9_abbd_8c85902c29bdrow5_col1\" class=\"data row5 col1\" >77.3</td> \n",
       "        <td id=\"T_2274e3c6_452c_11e9_abbd_8c85902c29bdrow5_col2\" class=\"data row5 col2\" >77.1</td> \n",
       "        <td id=\"T_2274e3c6_452c_11e9_abbd_8c85902c29bdrow5_col3\" class=\"data row5 col3\" >77.2</td> \n",
       "    </tr>    <tr> \n",
       "        <th id=\"T_2274e3c6_452c_11e9_abbd_8c85902c29bdlevel0_row6\" class=\"row_heading level0 row6\" >Holden High School</th> \n",
       "        <td id=\"T_2274e3c6_452c_11e9_abbd_8c85902c29bdrow6_col0\" class=\"data row6 col0\" >83.8</td> \n",
       "        <td id=\"T_2274e3c6_452c_11e9_abbd_8c85902c29bdrow6_col1\" class=\"data row6 col1\" >83.4</td> \n",
       "        <td id=\"T_2274e3c6_452c_11e9_abbd_8c85902c29bdrow6_col2\" class=\"data row6 col2\" >85.0</td> \n",
       "        <td id=\"T_2274e3c6_452c_11e9_abbd_8c85902c29bdrow6_col3\" class=\"data row6 col3\" >82.9</td> \n",
       "    </tr>    <tr> \n",
       "        <th id=\"T_2274e3c6_452c_11e9_abbd_8c85902c29bdlevel0_row7\" class=\"row_heading level0 row7\" >Huang High School</th> \n",
       "        <td id=\"T_2274e3c6_452c_11e9_abbd_8c85902c29bdrow7_col0\" class=\"data row7 col0\" >77.0</td> \n",
       "        <td id=\"T_2274e3c6_452c_11e9_abbd_8c85902c29bdrow7_col1\" class=\"data row7 col1\" >75.9</td> \n",
       "        <td id=\"T_2274e3c6_452c_11e9_abbd_8c85902c29bdrow7_col2\" class=\"data row7 col2\" >76.4</td> \n",
       "        <td id=\"T_2274e3c6_452c_11e9_abbd_8c85902c29bdrow7_col3\" class=\"data row7 col3\" >77.2</td> \n",
       "    </tr>    <tr> \n",
       "        <th id=\"T_2274e3c6_452c_11e9_abbd_8c85902c29bdlevel0_row8\" class=\"row_heading level0 row8\" >Johnson High School</th> \n",
       "        <td id=\"T_2274e3c6_452c_11e9_abbd_8c85902c29bdrow8_col0\" class=\"data row8 col0\" >77.2</td> \n",
       "        <td id=\"T_2274e3c6_452c_11e9_abbd_8c85902c29bdrow8_col1\" class=\"data row8 col1\" >76.7</td> \n",
       "        <td id=\"T_2274e3c6_452c_11e9_abbd_8c85902c29bdrow8_col2\" class=\"data row8 col2\" >77.5</td> \n",
       "        <td id=\"T_2274e3c6_452c_11e9_abbd_8c85902c29bdrow8_col3\" class=\"data row8 col3\" >76.9</td> \n",
       "    </tr>    <tr> \n",
       "        <th id=\"T_2274e3c6_452c_11e9_abbd_8c85902c29bdlevel0_row9\" class=\"row_heading level0 row9\" >Pena High School</th> \n",
       "        <td id=\"T_2274e3c6_452c_11e9_abbd_8c85902c29bdrow9_col0\" class=\"data row9 col0\" >83.6</td> \n",
       "        <td id=\"T_2274e3c6_452c_11e9_abbd_8c85902c29bdrow9_col1\" class=\"data row9 col1\" >83.4</td> \n",
       "        <td id=\"T_2274e3c6_452c_11e9_abbd_8c85902c29bdrow9_col2\" class=\"data row9 col2\" >84.3</td> \n",
       "        <td id=\"T_2274e3c6_452c_11e9_abbd_8c85902c29bdrow9_col3\" class=\"data row9 col3\" >84.1</td> \n",
       "    </tr>    <tr> \n",
       "        <th id=\"T_2274e3c6_452c_11e9_abbd_8c85902c29bdlevel0_row10\" class=\"row_heading level0 row10\" >Rodriguez High School</th> \n",
       "        <td id=\"T_2274e3c6_452c_11e9_abbd_8c85902c29bdrow10_col0\" class=\"data row10 col0\" >76.9</td> \n",
       "        <td id=\"T_2274e3c6_452c_11e9_abbd_8c85902c29bdrow10_col1\" class=\"data row10 col1\" >76.6</td> \n",
       "        <td id=\"T_2274e3c6_452c_11e9_abbd_8c85902c29bdrow10_col2\" class=\"data row10 col2\" >76.4</td> \n",
       "        <td id=\"T_2274e3c6_452c_11e9_abbd_8c85902c29bdrow10_col3\" class=\"data row10 col3\" >77.7</td> \n",
       "    </tr>    <tr> \n",
       "        <th id=\"T_2274e3c6_452c_11e9_abbd_8c85902c29bdlevel0_row11\" class=\"row_heading level0 row11\" >Shelton High School</th> \n",
       "        <td id=\"T_2274e3c6_452c_11e9_abbd_8c85902c29bdrow11_col0\" class=\"data row11 col0\" >83.4</td> \n",
       "        <td id=\"T_2274e3c6_452c_11e9_abbd_8c85902c29bdrow11_col1\" class=\"data row11 col1\" >82.9</td> \n",
       "        <td id=\"T_2274e3c6_452c_11e9_abbd_8c85902c29bdrow11_col2\" class=\"data row11 col2\" >83.4</td> \n",
       "        <td id=\"T_2274e3c6_452c_11e9_abbd_8c85902c29bdrow11_col3\" class=\"data row11 col3\" >83.8</td> \n",
       "    </tr>    <tr> \n",
       "        <th id=\"T_2274e3c6_452c_11e9_abbd_8c85902c29bdlevel0_row12\" class=\"row_heading level0 row12\" >Thomas High School</th> \n",
       "        <td id=\"T_2274e3c6_452c_11e9_abbd_8c85902c29bdrow12_col0\" class=\"data row12 col0\" >83.6</td> \n",
       "        <td id=\"T_2274e3c6_452c_11e9_abbd_8c85902c29bdrow12_col1\" class=\"data row12 col1\" >83.1</td> \n",
       "        <td id=\"T_2274e3c6_452c_11e9_abbd_8c85902c29bdrow12_col2\" class=\"data row12 col2\" >83.5</td> \n",
       "        <td id=\"T_2274e3c6_452c_11e9_abbd_8c85902c29bdrow12_col3\" class=\"data row12 col3\" >83.5</td> \n",
       "    </tr>    <tr> \n",
       "        <th id=\"T_2274e3c6_452c_11e9_abbd_8c85902c29bdlevel0_row13\" class=\"row_heading level0 row13\" >Wilson High School</th> \n",
       "        <td id=\"T_2274e3c6_452c_11e9_abbd_8c85902c29bdrow13_col0\" class=\"data row13 col0\" >83.1</td> \n",
       "        <td id=\"T_2274e3c6_452c_11e9_abbd_8c85902c29bdrow13_col1\" class=\"data row13 col1\" >83.7</td> \n",
       "        <td id=\"T_2274e3c6_452c_11e9_abbd_8c85902c29bdrow13_col2\" class=\"data row13 col2\" >83.2</td> \n",
       "        <td id=\"T_2274e3c6_452c_11e9_abbd_8c85902c29bdrow13_col3\" class=\"data row13 col3\" >83.0</td> \n",
       "    </tr>    <tr> \n",
       "        <th id=\"T_2274e3c6_452c_11e9_abbd_8c85902c29bdlevel0_row14\" class=\"row_heading level0 row14\" >Wright High School</th> \n",
       "        <td id=\"T_2274e3c6_452c_11e9_abbd_8c85902c29bdrow14_col0\" class=\"data row14 col0\" >83.3</td> \n",
       "        <td id=\"T_2274e3c6_452c_11e9_abbd_8c85902c29bdrow14_col1\" class=\"data row14 col1\" >84.0</td> \n",
       "        <td id=\"T_2274e3c6_452c_11e9_abbd_8c85902c29bdrow14_col2\" class=\"data row14 col2\" >83.8</td> \n",
       "        <td id=\"T_2274e3c6_452c_11e9_abbd_8c85902c29bdrow14_col3\" class=\"data row14 col3\" >83.6</td> \n",
       "    </tr></tbody> \n",
       "</table> "
      ],
      "text/plain": [
       "<pandas.io.formats.style.Styler at 0x1137cd6d8>"
      ]
     },
     "execution_count": 37,
     "metadata": {},
     "output_type": "execute_result"
    }
   ],
   "source": [
    "#Optional: give the displayed data cleaner formatting\n",
    "math_scores.style.format({'9th': '{:.1f}', \n",
    "                          \"10th\": '{:.1f}', \n",
    "                          \"11th\": \"{:.1f}\", \n",
    "                          \"12th\": \"{:.1f}\"})"
   ]
  },
  {
   "cell_type": "markdown",
   "metadata": {},
   "source": [
    "## Reading Score by Grade "
   ]
  },
  {
   "cell_type": "markdown",
   "metadata": {},
   "source": [
    "* Perform the same operations as above for reading scores"
   ]
  },
  {
   "cell_type": "code",
   "execution_count": 38,
   "metadata": {},
   "outputs": [],
   "source": [
    "#Create a table that lists the average Reading Score = Grade 9 and group by school\n",
    "ninth_reading_scores = student_df.loc[student_df['grade']=='9th'].groupby('school_name')[\"reading_score\"].mean()"
   ]
  },
  {
   "cell_type": "code",
   "execution_count": 39,
   "metadata": {},
   "outputs": [],
   "source": [
    "#Create a table that lists the average Reading Score = Grade 10 and group by school\n",
    "tenth_reading_scores = student_df.loc[student_df['grade']=='10th'].groupby('school_name')[\"reading_score\"].mean()"
   ]
  },
  {
   "cell_type": "code",
   "execution_count": 40,
   "metadata": {},
   "outputs": [],
   "source": [
    "#Create a table that lists the average Reading Score = Grade 11 and group by school\n",
    "eleventh_reading_scores = student_df.loc[student_df['grade']=='11th'].groupby('school_name')[\"reading_score\"].mean()"
   ]
  },
  {
   "cell_type": "code",
   "execution_count": 41,
   "metadata": {},
   "outputs": [],
   "source": [
    "#Create a table that lists the average Reading Score = Grade 12 and group by school\n",
    "tweleveth_reading_scores = student_df.loc[student_df['grade']=='12th'].groupby('school_name')[\"reading_score\"].mean()"
   ]
  },
  {
   "cell_type": "code",
   "execution_count": 42,
   "metadata": {},
   "outputs": [],
   "source": [
    "#Combine the series into a dataframe\n",
    "reading_scores = pd.DataFrame({\n",
    "        \"9th\": ninth_reading_scores,\n",
    "        \"10th\": tenth_reading_scores,\n",
    "        \"11th\": eleventh_reading_scores,\n",
    "        \"12th\": tweleveth_reading_scores\n",
    "})\n",
    "reading_scores = reading_scores[['9th', '10th', '11th', '12th']]\n",
    "reading_scores.index.name = \"School\""
   ]
  },
  {
   "cell_type": "code",
   "execution_count": 43,
   "metadata": {},
   "outputs": [
    {
     "data": {
      "text/html": [
       "<style  type=\"text/css\" >\n",
       "</style>  \n",
       "<table id=\"T_3694796e_452c_11e9_aa05_8c85902c29bd\" > \n",
       "<thead>    <tr> \n",
       "        <th class=\"blank level0\" ></th> \n",
       "        <th class=\"col_heading level0 col0\" >9th</th> \n",
       "        <th class=\"col_heading level0 col1\" >10th</th> \n",
       "        <th class=\"col_heading level0 col2\" >11th</th> \n",
       "        <th class=\"col_heading level0 col3\" >12th</th> \n",
       "    </tr>    <tr> \n",
       "        <th class=\"index_name level0\" >School</th> \n",
       "        <th class=\"blank\" ></th> \n",
       "        <th class=\"blank\" ></th> \n",
       "        <th class=\"blank\" ></th> \n",
       "        <th class=\"blank\" ></th> \n",
       "    </tr></thead> \n",
       "<tbody>    <tr> \n",
       "        <th id=\"T_3694796e_452c_11e9_aa05_8c85902c29bdlevel0_row0\" class=\"row_heading level0 row0\" >Bailey High School</th> \n",
       "        <td id=\"T_3694796e_452c_11e9_aa05_8c85902c29bdrow0_col0\" class=\"data row0 col0\" >81.3</td> \n",
       "        <td id=\"T_3694796e_452c_11e9_aa05_8c85902c29bdrow0_col1\" class=\"data row0 col1\" >80.9</td> \n",
       "        <td id=\"T_3694796e_452c_11e9_aa05_8c85902c29bdrow0_col2\" class=\"data row0 col2\" >80.9</td> \n",
       "        <td id=\"T_3694796e_452c_11e9_aa05_8c85902c29bdrow0_col3\" class=\"data row0 col3\" >80.9</td> \n",
       "    </tr>    <tr> \n",
       "        <th id=\"T_3694796e_452c_11e9_aa05_8c85902c29bdlevel0_row1\" class=\"row_heading level0 row1\" >Cabrera High School</th> \n",
       "        <td id=\"T_3694796e_452c_11e9_aa05_8c85902c29bdrow1_col0\" class=\"data row1 col0\" >83.7</td> \n",
       "        <td id=\"T_3694796e_452c_11e9_aa05_8c85902c29bdrow1_col1\" class=\"data row1 col1\" >84.3</td> \n",
       "        <td id=\"T_3694796e_452c_11e9_aa05_8c85902c29bdrow1_col2\" class=\"data row1 col2\" >83.8</td> \n",
       "        <td id=\"T_3694796e_452c_11e9_aa05_8c85902c29bdrow1_col3\" class=\"data row1 col3\" >84.3</td> \n",
       "    </tr>    <tr> \n",
       "        <th id=\"T_3694796e_452c_11e9_aa05_8c85902c29bdlevel0_row2\" class=\"row_heading level0 row2\" >Figueroa High School</th> \n",
       "        <td id=\"T_3694796e_452c_11e9_aa05_8c85902c29bdrow2_col0\" class=\"data row2 col0\" >81.2</td> \n",
       "        <td id=\"T_3694796e_452c_11e9_aa05_8c85902c29bdrow2_col1\" class=\"data row2 col1\" >81.4</td> \n",
       "        <td id=\"T_3694796e_452c_11e9_aa05_8c85902c29bdrow2_col2\" class=\"data row2 col2\" >80.6</td> \n",
       "        <td id=\"T_3694796e_452c_11e9_aa05_8c85902c29bdrow2_col3\" class=\"data row2 col3\" >81.4</td> \n",
       "    </tr>    <tr> \n",
       "        <th id=\"T_3694796e_452c_11e9_aa05_8c85902c29bdlevel0_row3\" class=\"row_heading level0 row3\" >Ford High School</th> \n",
       "        <td id=\"T_3694796e_452c_11e9_aa05_8c85902c29bdrow3_col0\" class=\"data row3 col0\" >80.6</td> \n",
       "        <td id=\"T_3694796e_452c_11e9_aa05_8c85902c29bdrow3_col1\" class=\"data row3 col1\" >81.3</td> \n",
       "        <td id=\"T_3694796e_452c_11e9_aa05_8c85902c29bdrow3_col2\" class=\"data row3 col2\" >80.4</td> \n",
       "        <td id=\"T_3694796e_452c_11e9_aa05_8c85902c29bdrow3_col3\" class=\"data row3 col3\" >80.7</td> \n",
       "    </tr>    <tr> \n",
       "        <th id=\"T_3694796e_452c_11e9_aa05_8c85902c29bdlevel0_row4\" class=\"row_heading level0 row4\" >Griffin High School</th> \n",
       "        <td id=\"T_3694796e_452c_11e9_aa05_8c85902c29bdrow4_col0\" class=\"data row4 col0\" >83.4</td> \n",
       "        <td id=\"T_3694796e_452c_11e9_aa05_8c85902c29bdrow4_col1\" class=\"data row4 col1\" >83.7</td> \n",
       "        <td id=\"T_3694796e_452c_11e9_aa05_8c85902c29bdrow4_col2\" class=\"data row4 col2\" >84.3</td> \n",
       "        <td id=\"T_3694796e_452c_11e9_aa05_8c85902c29bdrow4_col3\" class=\"data row4 col3\" >84.0</td> \n",
       "    </tr>    <tr> \n",
       "        <th id=\"T_3694796e_452c_11e9_aa05_8c85902c29bdlevel0_row5\" class=\"row_heading level0 row5\" >Hernandez High School</th> \n",
       "        <td id=\"T_3694796e_452c_11e9_aa05_8c85902c29bdrow5_col0\" class=\"data row5 col0\" >80.9</td> \n",
       "        <td id=\"T_3694796e_452c_11e9_aa05_8c85902c29bdrow5_col1\" class=\"data row5 col1\" >80.7</td> \n",
       "        <td id=\"T_3694796e_452c_11e9_aa05_8c85902c29bdrow5_col2\" class=\"data row5 col2\" >81.4</td> \n",
       "        <td id=\"T_3694796e_452c_11e9_aa05_8c85902c29bdrow5_col3\" class=\"data row5 col3\" >80.9</td> \n",
       "    </tr>    <tr> \n",
       "        <th id=\"T_3694796e_452c_11e9_aa05_8c85902c29bdlevel0_row6\" class=\"row_heading level0 row6\" >Holden High School</th> \n",
       "        <td id=\"T_3694796e_452c_11e9_aa05_8c85902c29bdrow6_col0\" class=\"data row6 col0\" >83.7</td> \n",
       "        <td id=\"T_3694796e_452c_11e9_aa05_8c85902c29bdrow6_col1\" class=\"data row6 col1\" >83.3</td> \n",
       "        <td id=\"T_3694796e_452c_11e9_aa05_8c85902c29bdrow6_col2\" class=\"data row6 col2\" >83.8</td> \n",
       "        <td id=\"T_3694796e_452c_11e9_aa05_8c85902c29bdrow6_col3\" class=\"data row6 col3\" >84.7</td> \n",
       "    </tr>    <tr> \n",
       "        <th id=\"T_3694796e_452c_11e9_aa05_8c85902c29bdlevel0_row7\" class=\"row_heading level0 row7\" >Huang High School</th> \n",
       "        <td id=\"T_3694796e_452c_11e9_aa05_8c85902c29bdrow7_col0\" class=\"data row7 col0\" >81.3</td> \n",
       "        <td id=\"T_3694796e_452c_11e9_aa05_8c85902c29bdrow7_col1\" class=\"data row7 col1\" >81.5</td> \n",
       "        <td id=\"T_3694796e_452c_11e9_aa05_8c85902c29bdrow7_col2\" class=\"data row7 col2\" >81.4</td> \n",
       "        <td id=\"T_3694796e_452c_11e9_aa05_8c85902c29bdrow7_col3\" class=\"data row7 col3\" >80.3</td> \n",
       "    </tr>    <tr> \n",
       "        <th id=\"T_3694796e_452c_11e9_aa05_8c85902c29bdlevel0_row8\" class=\"row_heading level0 row8\" >Johnson High School</th> \n",
       "        <td id=\"T_3694796e_452c_11e9_aa05_8c85902c29bdrow8_col0\" class=\"data row8 col0\" >81.3</td> \n",
       "        <td id=\"T_3694796e_452c_11e9_aa05_8c85902c29bdrow8_col1\" class=\"data row8 col1\" >80.8</td> \n",
       "        <td id=\"T_3694796e_452c_11e9_aa05_8c85902c29bdrow8_col2\" class=\"data row8 col2\" >80.6</td> \n",
       "        <td id=\"T_3694796e_452c_11e9_aa05_8c85902c29bdrow8_col3\" class=\"data row8 col3\" >81.2</td> \n",
       "    </tr>    <tr> \n",
       "        <th id=\"T_3694796e_452c_11e9_aa05_8c85902c29bdlevel0_row9\" class=\"row_heading level0 row9\" >Pena High School</th> \n",
       "        <td id=\"T_3694796e_452c_11e9_aa05_8c85902c29bdrow9_col0\" class=\"data row9 col0\" >83.8</td> \n",
       "        <td id=\"T_3694796e_452c_11e9_aa05_8c85902c29bdrow9_col1\" class=\"data row9 col1\" >83.6</td> \n",
       "        <td id=\"T_3694796e_452c_11e9_aa05_8c85902c29bdrow9_col2\" class=\"data row9 col2\" >84.3</td> \n",
       "        <td id=\"T_3694796e_452c_11e9_aa05_8c85902c29bdrow9_col3\" class=\"data row9 col3\" >84.6</td> \n",
       "    </tr>    <tr> \n",
       "        <th id=\"T_3694796e_452c_11e9_aa05_8c85902c29bdlevel0_row10\" class=\"row_heading level0 row10\" >Rodriguez High School</th> \n",
       "        <td id=\"T_3694796e_452c_11e9_aa05_8c85902c29bdrow10_col0\" class=\"data row10 col0\" >81.0</td> \n",
       "        <td id=\"T_3694796e_452c_11e9_aa05_8c85902c29bdrow10_col1\" class=\"data row10 col1\" >80.6</td> \n",
       "        <td id=\"T_3694796e_452c_11e9_aa05_8c85902c29bdrow10_col2\" class=\"data row10 col2\" >80.9</td> \n",
       "        <td id=\"T_3694796e_452c_11e9_aa05_8c85902c29bdrow10_col3\" class=\"data row10 col3\" >80.4</td> \n",
       "    </tr>    <tr> \n",
       "        <th id=\"T_3694796e_452c_11e9_aa05_8c85902c29bdlevel0_row11\" class=\"row_heading level0 row11\" >Shelton High School</th> \n",
       "        <td id=\"T_3694796e_452c_11e9_aa05_8c85902c29bdrow11_col0\" class=\"data row11 col0\" >84.1</td> \n",
       "        <td id=\"T_3694796e_452c_11e9_aa05_8c85902c29bdrow11_col1\" class=\"data row11 col1\" >83.4</td> \n",
       "        <td id=\"T_3694796e_452c_11e9_aa05_8c85902c29bdrow11_col2\" class=\"data row11 col2\" >84.4</td> \n",
       "        <td id=\"T_3694796e_452c_11e9_aa05_8c85902c29bdrow11_col3\" class=\"data row11 col3\" >82.8</td> \n",
       "    </tr>    <tr> \n",
       "        <th id=\"T_3694796e_452c_11e9_aa05_8c85902c29bdlevel0_row12\" class=\"row_heading level0 row12\" >Thomas High School</th> \n",
       "        <td id=\"T_3694796e_452c_11e9_aa05_8c85902c29bdrow12_col0\" class=\"data row12 col0\" >83.7</td> \n",
       "        <td id=\"T_3694796e_452c_11e9_aa05_8c85902c29bdrow12_col1\" class=\"data row12 col1\" >84.3</td> \n",
       "        <td id=\"T_3694796e_452c_11e9_aa05_8c85902c29bdrow12_col2\" class=\"data row12 col2\" >83.6</td> \n",
       "        <td id=\"T_3694796e_452c_11e9_aa05_8c85902c29bdrow12_col3\" class=\"data row12 col3\" >83.8</td> \n",
       "    </tr>    <tr> \n",
       "        <th id=\"T_3694796e_452c_11e9_aa05_8c85902c29bdlevel0_row13\" class=\"row_heading level0 row13\" >Wilson High School</th> \n",
       "        <td id=\"T_3694796e_452c_11e9_aa05_8c85902c29bdrow13_col0\" class=\"data row13 col0\" >83.9</td> \n",
       "        <td id=\"T_3694796e_452c_11e9_aa05_8c85902c29bdrow13_col1\" class=\"data row13 col1\" >84.0</td> \n",
       "        <td id=\"T_3694796e_452c_11e9_aa05_8c85902c29bdrow13_col2\" class=\"data row13 col2\" >83.8</td> \n",
       "        <td id=\"T_3694796e_452c_11e9_aa05_8c85902c29bdrow13_col3\" class=\"data row13 col3\" >84.3</td> \n",
       "    </tr>    <tr> \n",
       "        <th id=\"T_3694796e_452c_11e9_aa05_8c85902c29bdlevel0_row14\" class=\"row_heading level0 row14\" >Wright High School</th> \n",
       "        <td id=\"T_3694796e_452c_11e9_aa05_8c85902c29bdrow14_col0\" class=\"data row14 col0\" >83.8</td> \n",
       "        <td id=\"T_3694796e_452c_11e9_aa05_8c85902c29bdrow14_col1\" class=\"data row14 col1\" >83.8</td> \n",
       "        <td id=\"T_3694796e_452c_11e9_aa05_8c85902c29bdrow14_col2\" class=\"data row14 col2\" >84.2</td> \n",
       "        <td id=\"T_3694796e_452c_11e9_aa05_8c85902c29bdrow14_col3\" class=\"data row14 col3\" >84.1</td> \n",
       "    </tr></tbody> \n",
       "</table> "
      ],
      "text/plain": [
       "<pandas.io.formats.style.Styler at 0x1144a9f60>"
      ]
     },
     "execution_count": 43,
     "metadata": {},
     "output_type": "execute_result"
    }
   ],
   "source": [
    "#Optional: give the displayed data cleaner formatting\n",
    "reading_scores.style.format({'9th': '{:.1f}', \n",
    "                          \"10th\": '{:.1f}', \n",
    "                          \"11th\": \"{:.1f}\", \n",
    "                          \"12th\": \"{:.1f}\"})"
   ]
  },
  {
   "cell_type": "markdown",
   "metadata": {},
   "source": [
    "## Scores by School Spending"
   ]
  },
  {
   "cell_type": "markdown",
   "metadata": {},
   "source": [
    "* Create a table that breaks down school performances based on average Spending Ranges (Per Student). Use 4 reasonable bins to group school spending. Include in the table each of the following:\n",
    "  * Average Math Score\n",
    "  * Average Reading Score\n",
    "  * % Passing Math\n",
    "  * % Passing Reading\n",
    "  * Overall Passing Rate (Average of the above two)"
   ]
  },
  {
   "cell_type": "code",
   "execution_count": 44,
   "metadata": {},
   "outputs": [],
   "source": [
    "# Sample bins. Feel free to create your own bins.\n",
    "spending_bins = [0, 585, 615, 645, 675]\n",
    "group_names = [\"<$585\", \"$585-615\", \"$615-645\", \"$645-675\"]"
   ]
  },
  {
   "cell_type": "code",
   "execution_count": 45,
   "metadata": {},
   "outputs": [],
   "source": [
    "combined_df['spending_bins'] = pd.cut(combined_df['budget']/combined_df['size'], spending_bins, labels = group_names)"
   ]
  },
  {
   "cell_type": "code",
   "execution_count": 46,
   "metadata": {},
   "outputs": [],
   "source": [
    "#group by spending\n",
    "group_by_spending = combined_df.groupby('spending_bins')"
   ]
  },
  {
   "cell_type": "code",
   "execution_count": 47,
   "metadata": {},
   "outputs": [],
   "source": [
    "#Average Math Score\n",
    "avg_math = group_by_spending['math_score'].mean()"
   ]
  },
  {
   "cell_type": "code",
   "execution_count": 48,
   "metadata": {},
   "outputs": [],
   "source": [
    "#Average Reading Score\n",
    "avg_read = group_by_spending['reading_score'].mean()"
   ]
  },
  {
   "cell_type": "code",
   "execution_count": 50,
   "metadata": {},
   "outputs": [],
   "source": [
    "#% Passing Math\n",
    "pass_math = combined_df[combined_df['math_score']>=70].groupby('spending_bins')['Student ID'].count()/group_by_spending['Student ID'].count()"
   ]
  },
  {
   "cell_type": "code",
   "execution_count": 51,
   "metadata": {},
   "outputs": [],
   "source": [
    "#% Passing Reading\n",
    "pass_reading = combined_df[combined_df['reading_score']>=70].groupby('spending_bins')['Student ID'].count()/group_by_spending['Student ID'].count()"
   ]
  },
  {
   "cell_type": "code",
   "execution_count": 52,
   "metadata": {},
   "outputs": [],
   "source": [
    "#Overall Passing Rate (Average of the above two)\n",
    "overall =(pass_math+pass_reading)/2"
   ]
  },
  {
   "cell_type": "code",
   "execution_count": 53,
   "metadata": {},
   "outputs": [],
   "source": [
    "#Create Dara Frame           \n",
    "scores_by_school_spend = pd.DataFrame({\n",
    "    \"Average Math Score\": avg_math,\n",
    "    \"Average Reading Score\": avg_read,\n",
    "    '% Passing Math': pass_math,\n",
    "    '% Passing Reading': pass_reading,\n",
    "    \"Overall Passing Rate\": overall\n",
    "    })"
   ]
  },
  {
   "cell_type": "code",
   "execution_count": 54,
   "metadata": {},
   "outputs": [
    {
     "data": {
      "text/html": [
       "<style  type=\"text/css\" >\n",
       "</style>  \n",
       "<table id=\"T_7bff4da8_452c_11e9_885c_8c85902c29bd\" > \n",
       "<thead>    <tr> \n",
       "        <th class=\"blank level0\" ></th> \n",
       "        <th class=\"col_heading level0 col0\" >Average Math Score</th> \n",
       "        <th class=\"col_heading level0 col1\" >Average Reading Score</th> \n",
       "        <th class=\"col_heading level0 col2\" >% Passing Math</th> \n",
       "        <th class=\"col_heading level0 col3\" >% Passing Reading</th> \n",
       "        <th class=\"col_heading level0 col4\" >Overall Passing Rate</th> \n",
       "    </tr>    <tr> \n",
       "        <th class=\"index_name level0\" >Spending Ranges(Per Student)</th> \n",
       "        <th class=\"blank\" ></th> \n",
       "        <th class=\"blank\" ></th> \n",
       "        <th class=\"blank\" ></th> \n",
       "        <th class=\"blank\" ></th> \n",
       "        <th class=\"blank\" ></th> \n",
       "    </tr></thead> \n",
       "<tbody>    <tr> \n",
       "        <th id=\"T_7bff4da8_452c_11e9_885c_8c85902c29bdlevel0_row0\" class=\"row_heading level0 row0\" ><$585</th> \n",
       "        <td id=\"T_7bff4da8_452c_11e9_885c_8c85902c29bdrow0_col0\" class=\"data row0 col0\" >83.4</td> \n",
       "        <td id=\"T_7bff4da8_452c_11e9_885c_8c85902c29bdrow0_col1\" class=\"data row0 col1\" >84.0</td> \n",
       "        <td id=\"T_7bff4da8_452c_11e9_885c_8c85902c29bdrow0_col2\" class=\"data row0 col2\" >93.7%</td> \n",
       "        <td id=\"T_7bff4da8_452c_11e9_885c_8c85902c29bdrow0_col3\" class=\"data row0 col3\" >96.7%</td> \n",
       "        <td id=\"T_7bff4da8_452c_11e9_885c_8c85902c29bdrow0_col4\" class=\"data row0 col4\" >95.2%</td> \n",
       "    </tr>    <tr> \n",
       "        <th id=\"T_7bff4da8_452c_11e9_885c_8c85902c29bdlevel0_row1\" class=\"row_heading level0 row1\" >$585-615</th> \n",
       "        <td id=\"T_7bff4da8_452c_11e9_885c_8c85902c29bdrow1_col0\" class=\"data row1 col0\" >83.5</td> \n",
       "        <td id=\"T_7bff4da8_452c_11e9_885c_8c85902c29bdrow1_col1\" class=\"data row1 col1\" >83.8</td> \n",
       "        <td id=\"T_7bff4da8_452c_11e9_885c_8c85902c29bdrow1_col2\" class=\"data row1 col2\" >94.1%</td> \n",
       "        <td id=\"T_7bff4da8_452c_11e9_885c_8c85902c29bdrow1_col3\" class=\"data row1 col3\" >95.9%</td> \n",
       "        <td id=\"T_7bff4da8_452c_11e9_885c_8c85902c29bdrow1_col4\" class=\"data row1 col4\" >95.0%</td> \n",
       "    </tr>    <tr> \n",
       "        <th id=\"T_7bff4da8_452c_11e9_885c_8c85902c29bdlevel0_row2\" class=\"row_heading level0 row2\" >$615-645</th> \n",
       "        <td id=\"T_7bff4da8_452c_11e9_885c_8c85902c29bdrow2_col0\" class=\"data row2 col0\" >78.1</td> \n",
       "        <td id=\"T_7bff4da8_452c_11e9_885c_8c85902c29bdrow2_col1\" class=\"data row2 col1\" >81.4</td> \n",
       "        <td id=\"T_7bff4da8_452c_11e9_885c_8c85902c29bdrow2_col2\" class=\"data row2 col2\" >71.4%</td> \n",
       "        <td id=\"T_7bff4da8_452c_11e9_885c_8c85902c29bdrow2_col3\" class=\"data row2 col3\" >83.6%</td> \n",
       "        <td id=\"T_7bff4da8_452c_11e9_885c_8c85902c29bdrow2_col4\" class=\"data row2 col4\" >77.5%</td> \n",
       "    </tr>    <tr> \n",
       "        <th id=\"T_7bff4da8_452c_11e9_885c_8c85902c29bdlevel0_row3\" class=\"row_heading level0 row3\" >$645-675</th> \n",
       "        <td id=\"T_7bff4da8_452c_11e9_885c_8c85902c29bdrow3_col0\" class=\"data row3 col0\" >77.0</td> \n",
       "        <td id=\"T_7bff4da8_452c_11e9_885c_8c85902c29bdrow3_col1\" class=\"data row3 col1\" >81.0</td> \n",
       "        <td id=\"T_7bff4da8_452c_11e9_885c_8c85902c29bdrow3_col2\" class=\"data row3 col2\" >66.2%</td> \n",
       "        <td id=\"T_7bff4da8_452c_11e9_885c_8c85902c29bdrow3_col3\" class=\"data row3 col3\" >81.1%</td> \n",
       "        <td id=\"T_7bff4da8_452c_11e9_885c_8c85902c29bdrow3_col4\" class=\"data row3 col4\" >73.7%</td> \n",
       "    </tr></tbody> \n",
       "</table> "
      ],
      "text/plain": [
       "<pandas.io.formats.style.Styler at 0x115104278>"
      ]
     },
     "execution_count": 54,
     "metadata": {},
     "output_type": "execute_result"
    }
   ],
   "source": [
    "scores_by_school_spend.index.name = \"Spending Ranges(Per Student)\"\n",
    "\n",
    "#formating\n",
    "scores_by_school_spend.style.format({'Average Math Score': '{:.1f}', \n",
    "                              'Average Reading Score': '{:.1f}', \n",
    "                              '% Passing Math': '{:.1%}', \n",
    "                              '% Passing Reading':'{:.1%}', \n",
    "                              'Overall Passing Rate': '{:.1%}'})"
   ]
  },
  {
   "cell_type": "markdown",
   "metadata": {},
   "source": [
    "## Scores by School Size"
   ]
  },
  {
   "cell_type": "markdown",
   "metadata": {},
   "source": [
    "* Perform the same operations as above, based on school size."
   ]
  },
  {
   "cell_type": "code",
   "execution_count": 55,
   "metadata": {},
   "outputs": [],
   "source": [
    "# Sample bins. Feel free to create your own bins.\n",
    "size_bins = [0, 1000, 2000, 5000]\n",
    "group_names = [\"Small (<1000)\", \"Medium (1000-2000)\", \"Large (2000-5000)\"]"
   ]
  },
  {
   "cell_type": "code",
   "execution_count": 56,
   "metadata": {
    "scrolled": true
   },
   "outputs": [],
   "source": [
    "combined_df['size_bins'] = pd.cut(combined_df['size'], size_bins, labels = group_names)"
   ]
  },
  {
   "cell_type": "code",
   "execution_count": 57,
   "metadata": {},
   "outputs": [],
   "source": [
    "#group by spending: \n",
    "group_by_size = combined_df.groupby('size_bins')"
   ]
  },
  {
   "cell_type": "code",
   "execution_count": 58,
   "metadata": {},
   "outputs": [],
   "source": [
    "#Average Math Score\n",
    "avg_math = group_by_size['math_score'].mean()"
   ]
  },
  {
   "cell_type": "code",
   "execution_count": 59,
   "metadata": {},
   "outputs": [],
   "source": [
    "#Average Reading Score\n",
    "avg_read = group_by_size['reading_score'].mean()"
   ]
  },
  {
   "cell_type": "code",
   "execution_count": 60,
   "metadata": {},
   "outputs": [],
   "source": [
    "#% Passing Math\n",
    "pass_math = combined_df[combined_df['math_score']>=70].groupby('size_bins')['Student ID'].count()/group_by_size['Student ID'].count()"
   ]
  },
  {
   "cell_type": "code",
   "execution_count": 61,
   "metadata": {},
   "outputs": [],
   "source": [
    "#% Passing Reading\n",
    "pass_reading = combined_df[combined_df['reading_score']>=70].groupby('size_bins')['Student ID'].count()/group_by_size['Student ID'].count()"
   ]
  },
  {
   "cell_type": "code",
   "execution_count": 65,
   "metadata": {},
   "outputs": [],
   "source": [
    "#Overall Passing Rate (Average of the above two)\n",
    "overall = (pass_math + pass_reading)/2"
   ]
  },
  {
   "cell_type": "code",
   "execution_count": 66,
   "metadata": {},
   "outputs": [],
   "source": [
    "#Create Dara Frame           \n",
    "scores_by_school_size = pd.DataFrame({\n",
    "    \"Average Math Score\": avg_math,\n",
    "    \"Average Reading Score\": avg_read,\n",
    "    '% Passing Math': pass_math,\n",
    "    '% Passing Reading': pass_reading,\n",
    "    \"Overall Passing Rate\": overall\n",
    "    })"
   ]
  },
  {
   "cell_type": "code",
   "execution_count": 67,
   "metadata": {},
   "outputs": [
    {
     "data": {
      "text/html": [
       "<style  type=\"text/css\" >\n",
       "</style>  \n",
       "<table id=\"T_c8b5292e_452c_11e9_80bd_8c85902c29bd\" > \n",
       "<thead>    <tr> \n",
       "        <th class=\"blank level0\" ></th> \n",
       "        <th class=\"col_heading level0 col0\" >Average Math Score</th> \n",
       "        <th class=\"col_heading level0 col1\" >Average Reading Score</th> \n",
       "        <th class=\"col_heading level0 col2\" >% Passing Math</th> \n",
       "        <th class=\"col_heading level0 col3\" >% Passing Reading</th> \n",
       "        <th class=\"col_heading level0 col4\" >Overall Passing Rate</th> \n",
       "    </tr>    <tr> \n",
       "        <th class=\"index_name level0\" >School Size</th> \n",
       "        <th class=\"blank\" ></th> \n",
       "        <th class=\"blank\" ></th> \n",
       "        <th class=\"blank\" ></th> \n",
       "        <th class=\"blank\" ></th> \n",
       "        <th class=\"blank\" ></th> \n",
       "    </tr></thead> \n",
       "<tbody>    <tr> \n",
       "        <th id=\"T_c8b5292e_452c_11e9_80bd_8c85902c29bdlevel0_row0\" class=\"row_heading level0 row0\" >Small (<1000)</th> \n",
       "        <td id=\"T_c8b5292e_452c_11e9_80bd_8c85902c29bdrow0_col0\" class=\"data row0 col0\" >83.8</td> \n",
       "        <td id=\"T_c8b5292e_452c_11e9_80bd_8c85902c29bdrow0_col1\" class=\"data row0 col1\" >84.0</td> \n",
       "        <td id=\"T_c8b5292e_452c_11e9_80bd_8c85902c29bdrow0_col2\" class=\"data row0 col2\" >94.0%</td> \n",
       "        <td id=\"T_c8b5292e_452c_11e9_80bd_8c85902c29bdrow0_col3\" class=\"data row0 col3\" >96.0%</td> \n",
       "        <td id=\"T_c8b5292e_452c_11e9_80bd_8c85902c29bdrow0_col4\" class=\"data row0 col4\" >95.0%</td> \n",
       "    </tr>    <tr> \n",
       "        <th id=\"T_c8b5292e_452c_11e9_80bd_8c85902c29bdlevel0_row1\" class=\"row_heading level0 row1\" >Medium (1000-2000)</th> \n",
       "        <td id=\"T_c8b5292e_452c_11e9_80bd_8c85902c29bdrow1_col0\" class=\"data row1 col0\" >83.4</td> \n",
       "        <td id=\"T_c8b5292e_452c_11e9_80bd_8c85902c29bdrow1_col1\" class=\"data row1 col1\" >83.9</td> \n",
       "        <td id=\"T_c8b5292e_452c_11e9_80bd_8c85902c29bdrow1_col2\" class=\"data row1 col2\" >93.6%</td> \n",
       "        <td id=\"T_c8b5292e_452c_11e9_80bd_8c85902c29bdrow1_col3\" class=\"data row1 col3\" >96.8%</td> \n",
       "        <td id=\"T_c8b5292e_452c_11e9_80bd_8c85902c29bdrow1_col4\" class=\"data row1 col4\" >95.2%</td> \n",
       "    </tr>    <tr> \n",
       "        <th id=\"T_c8b5292e_452c_11e9_80bd_8c85902c29bdlevel0_row2\" class=\"row_heading level0 row2\" >Large (2000-5000)</th> \n",
       "        <td id=\"T_c8b5292e_452c_11e9_80bd_8c85902c29bdrow2_col0\" class=\"data row2 col0\" >77.5</td> \n",
       "        <td id=\"T_c8b5292e_452c_11e9_80bd_8c85902c29bdrow2_col1\" class=\"data row2 col1\" >81.2</td> \n",
       "        <td id=\"T_c8b5292e_452c_11e9_80bd_8c85902c29bdrow2_col2\" class=\"data row2 col2\" >68.7%</td> \n",
       "        <td id=\"T_c8b5292e_452c_11e9_80bd_8c85902c29bdrow2_col3\" class=\"data row2 col3\" >82.1%</td> \n",
       "        <td id=\"T_c8b5292e_452c_11e9_80bd_8c85902c29bdrow2_col4\" class=\"data row2 col4\" >75.4%</td> \n",
       "    </tr></tbody> \n",
       "</table> "
      ],
      "text/plain": [
       "<pandas.io.formats.style.Styler at 0x11510d550>"
      ]
     },
     "execution_count": 67,
     "metadata": {},
     "output_type": "execute_result"
    }
   ],
   "source": [
    "scores_by_school_size.index.name = \"School Size\"\n",
    "\n",
    "#formating\n",
    "scores_by_school_size.style.format({'Average Math Score': '{:.1f}', \n",
    "                              'Average Reading Score': '{:.1f}', \n",
    "                              '% Passing Math': '{:.1%}', \n",
    "                              '% Passing Reading':'{:.1%}', \n",
    "                              'Overall Passing Rate': '{:.1%}'})"
   ]
  },
  {
   "cell_type": "markdown",
   "metadata": {},
   "source": [
    "## Scores by School Type"
   ]
  },
  {
   "cell_type": "markdown",
   "metadata": {},
   "source": [
    "* Perform the same operations as above, based on school type."
   ]
  },
  {
   "cell_type": "code",
   "execution_count": 68,
   "metadata": {},
   "outputs": [],
   "source": [
    "#group by type\n",
    "scores_by_type = combined_df.groupby(\"type\")"
   ]
  },
  {
   "cell_type": "code",
   "execution_count": 69,
   "metadata": {},
   "outputs": [],
   "source": [
    "#Average Math Score\n",
    "avg_math = scores_by_type['math_score'].mean()"
   ]
  },
  {
   "cell_type": "code",
   "execution_count": 70,
   "metadata": {},
   "outputs": [],
   "source": [
    "#Average Reading Score\n",
    "avg_read = scores_by_type['reading_score'].mean()"
   ]
  },
  {
   "cell_type": "code",
   "execution_count": 71,
   "metadata": {},
   "outputs": [],
   "source": [
    "#% Passing Math\n",
    "pass_math = combined_df[combined_df['math_score']>=70].groupby('type')['Student ID'].count()/scores_by_type['Student ID'].count()"
   ]
  },
  {
   "cell_type": "code",
   "execution_count": 72,
   "metadata": {},
   "outputs": [],
   "source": [
    "#% Passing Reading\n",
    "pass_reading = combined_df[combined_df['reading_score']>=70].groupby('type')['Student ID'].count()/scores_by_type['Student ID'].count()"
   ]
  },
  {
   "cell_type": "code",
   "execution_count": 75,
   "metadata": {},
   "outputs": [],
   "source": [
    "#Overall Passing Rate (Average of the above two)\n",
    "overall = (pass_math + pass_reading)/2"
   ]
  },
  {
   "cell_type": "code",
   "execution_count": 76,
   "metadata": {},
   "outputs": [],
   "source": [
    "#Create Dara Frame           \n",
    "scores_by_school_type = pd.DataFrame({\n",
    "    \"Average Math Score\": avg_math,\n",
    "    \"Average Reading Score\": avg_read,\n",
    "    '% Passing Math': pass_math,\n",
    "    '% Passing Reading': pass_reading,\n",
    "    \"Overall Passing Rate\": overall\n",
    "    })"
   ]
  },
  {
   "cell_type": "code",
   "execution_count": 77,
   "metadata": {},
   "outputs": [
    {
     "data": {
      "text/html": [
       "<style  type=\"text/css\" >\n",
       "</style>  \n",
       "<table id=\"T_f92bcb6c_452c_11e9_b85e_8c85902c29bd\" > \n",
       "<thead>    <tr> \n",
       "        <th class=\"blank level0\" ></th> \n",
       "        <th class=\"col_heading level0 col0\" >Average Math Score</th> \n",
       "        <th class=\"col_heading level0 col1\" >Average Reading Score</th> \n",
       "        <th class=\"col_heading level0 col2\" >% Passing Math</th> \n",
       "        <th class=\"col_heading level0 col3\" >% Passing Reading</th> \n",
       "        <th class=\"col_heading level0 col4\" >Overall Passing Rate</th> \n",
       "    </tr>    <tr> \n",
       "        <th class=\"index_name level0\" >School Type</th> \n",
       "        <th class=\"blank\" ></th> \n",
       "        <th class=\"blank\" ></th> \n",
       "        <th class=\"blank\" ></th> \n",
       "        <th class=\"blank\" ></th> \n",
       "        <th class=\"blank\" ></th> \n",
       "    </tr></thead> \n",
       "<tbody>    <tr> \n",
       "        <th id=\"T_f92bcb6c_452c_11e9_b85e_8c85902c29bdlevel0_row0\" class=\"row_heading level0 row0\" >Charter</th> \n",
       "        <td id=\"T_f92bcb6c_452c_11e9_b85e_8c85902c29bdrow0_col0\" class=\"data row0 col0\" >83.4</td> \n",
       "        <td id=\"T_f92bcb6c_452c_11e9_b85e_8c85902c29bdrow0_col1\" class=\"data row0 col1\" >83.9</td> \n",
       "        <td id=\"T_f92bcb6c_452c_11e9_b85e_8c85902c29bdrow0_col2\" class=\"data row0 col2\" >93.7%</td> \n",
       "        <td id=\"T_f92bcb6c_452c_11e9_b85e_8c85902c29bdrow0_col3\" class=\"data row0 col3\" >96.6%</td> \n",
       "        <td id=\"T_f92bcb6c_452c_11e9_b85e_8c85902c29bdrow0_col4\" class=\"data row0 col4\" >95.2%</td> \n",
       "    </tr>    <tr> \n",
       "        <th id=\"T_f92bcb6c_452c_11e9_b85e_8c85902c29bdlevel0_row1\" class=\"row_heading level0 row1\" >District</th> \n",
       "        <td id=\"T_f92bcb6c_452c_11e9_b85e_8c85902c29bdrow1_col0\" class=\"data row1 col0\" >77.0</td> \n",
       "        <td id=\"T_f92bcb6c_452c_11e9_b85e_8c85902c29bdrow1_col1\" class=\"data row1 col1\" >81.0</td> \n",
       "        <td id=\"T_f92bcb6c_452c_11e9_b85e_8c85902c29bdrow1_col2\" class=\"data row1 col2\" >66.5%</td> \n",
       "        <td id=\"T_f92bcb6c_452c_11e9_b85e_8c85902c29bdrow1_col3\" class=\"data row1 col3\" >80.9%</td> \n",
       "        <td id=\"T_f92bcb6c_452c_11e9_b85e_8c85902c29bdrow1_col4\" class=\"data row1 col4\" >73.7%</td> \n",
       "    </tr></tbody> \n",
       "</table> "
      ],
      "text/plain": [
       "<pandas.io.formats.style.Styler at 0x11510db70>"
      ]
     },
     "execution_count": 77,
     "metadata": {},
     "output_type": "execute_result"
    }
   ],
   "source": [
    "scores_by_school_type.index.name = \"School Type\"\n",
    "\n",
    "#formating\n",
    "scores_by_school_type.style.format({'Average Math Score': '{:.1f}', \n",
    "                              'Average Reading Score': '{:.1f}', \n",
    "                              '% Passing Math': '{:.1%}', \n",
    "                              '% Passing Reading':'{:.1%}', \n",
    "                              'Overall Passing Rate': '{:.1%}'})"
   ]
  },
  {
   "cell_type": "code",
   "execution_count": null,
   "metadata": {},
   "outputs": [],
   "source": [
    "#Analysis: \n",
    "# 1)Schools larger than 2000 students have a lower overall scores than smaller schools\n",
    "# 2)Charter School have higher math scores compared to District Shools\n",
    "# 3)Higher rates of spending are not necesseraly associated with higher overall rates of passint standarized tests"
   ]
  }
 ],
 "metadata": {
  "anaconda-cloud": {},
  "kernel_info": {
   "name": "python3"
  },
  "kernelspec": {
   "display_name": "Python 3",
   "language": "python",
   "name": "python3"
  },
  "language_info": {
   "codemirror_mode": {
    "name": "ipython",
    "version": 3
   },
   "file_extension": ".py",
   "mimetype": "text/x-python",
   "name": "python",
   "nbconvert_exporter": "python",
   "pygments_lexer": "ipython3",
   "version": "3.6.7"
  },
  "nteract": {
   "version": "0.8.4"
  }
 },
 "nbformat": 4,
 "nbformat_minor": 1
}
